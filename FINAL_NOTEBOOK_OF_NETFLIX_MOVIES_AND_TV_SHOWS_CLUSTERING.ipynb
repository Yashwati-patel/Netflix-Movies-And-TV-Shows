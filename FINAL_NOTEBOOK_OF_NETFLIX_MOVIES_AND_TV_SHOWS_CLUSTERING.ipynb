{
  "nbformat": 4,
  "nbformat_minor": 0,
  "metadata": {
    "colab": {
      "name": "FINAL-NOTEBOOK-OF-NETFLIX MOVIES AND TV SHOWS CLUSTERING.ipynb",
      "provenance": [],
      "collapsed_sections": [],
      "include_colab_link": true
    },
    "kernelspec": {
      "name": "python3",
      "display_name": "Python 3"
    },
    "language_info": {
      "name": "python"
    }
  },
  "cells": [
    {
      "cell_type": "markdown",
      "metadata": {
        "id": "view-in-github",
        "colab_type": "text"
      },
      "source": [
        "<a href=\"https://colab.research.google.com/github/Yashwati-patel/Netflix-Movies-And-TV-Shows/blob/main/FINAL_NOTEBOOK_OF_NETFLIX_MOVIES_AND_TV_SHOWS_CLUSTERING.ipynb\" target=\"_parent\"><img src=\"https://colab.research.google.com/assets/colab-badge.svg\" alt=\"Open In Colab\"/></a>"
      ]
    },
    {
      "cell_type": "markdown",
      "metadata": {
        "id": "LGcl5Bv9ed6u"
      },
      "source": [
        "# **Problem Statement**"
      ]
    },
    {
      "cell_type": "markdown",
      "metadata": {
        "id": "8M5kyFaVjzXk"
      },
      "source": [
        "This dataset consists of tv shows and movies available on Netflix as of 2019. The dataset is collected from Flixable which is a third-party Netflix search engine.\n",
        "\n",
        "In 2018, they released an interesting report which shows that the number of TV shows on Netflix has nearly tripled since 2010. The streaming service’s number of movies has decreased by more than 2,000 titles since 2010, while its number of TV shows has nearly tripled. It will be interesting to explore what all other insights can be obtained from the same dataset.\n",
        "\n",
        "Integrating this dataset with other external datasets such as IMDB ratings, rotten tomatoes can also provide many interesting findings."
      ]
    },
    {
      "cell_type": "markdown",
      "metadata": {
        "id": "tLx5cJO8hzb1"
      },
      "source": [
        "## <b>In this  project, you are required to do </b>\n",
        "1. Exploratory Data Analysis \n",
        "\n",
        "2. Understanding what type content is available in different countries\n",
        "\n",
        "3. Is Netflix has increasingly focusing on TV rather than movies in recent years.\n",
        "4. Clustering similar content by matching text-based features\n",
        "\n"
      ]
    },
    {
      "cell_type": "markdown",
      "metadata": {
        "id": "AzGDqdC4fZ-b"
      },
      "source": [
        "# **Attribute Information**"
      ]
    },
    {
      "cell_type": "markdown",
      "metadata": {
        "id": "jhfLYargscGV"
      },
      "source": [
        "1. show_id : Unique ID for every Movie / Tv Show\n",
        "\n",
        "2. type : Identifier - A Movie or TV Show\n",
        "\n",
        "3. title : Title of the Movie / Tv Show\n",
        "\n",
        "4. director : Director of the Movie\n",
        "\n",
        "5. cast : Actors involved in the movie / show\n",
        "\n",
        "6. country : Country where the movie / show was produced\n",
        "\n",
        "7. date_added : Date it was added on Netflix\n",
        "\n",
        "8. release_year : Actual Releaseyear of the movie / show\n",
        "\n",
        "9. rating : TV Rating of the movie / show\n",
        "\n",
        "10. duration : Total Duration - in minutes or number of seasons\n",
        "\n",
        "11. listed_in : Genere\n",
        "\n",
        "12. description: The Summary description"
      ]
    },
    {
      "cell_type": "markdown",
      "source": [
        "#**Import Libraries**"
      ],
      "metadata": {
        "id": "Zy7s_HstdSr5"
      }
    },
    {
      "cell_type": "code",
      "source": [
        "# Importing Libraries\n",
        "import pandas as pd\n",
        "import numpy as np\n",
        "import matplotlib.pyplot as plt\n",
        "%matplotlib inline\n",
        "import seaborn as sns\n",
        "from nltk.corpus import stopwords\n",
        "from nltk.tokenize import word_tokenize\n",
        "from nltk.corpus import stopwords\n",
        "from string import punctuation\n",
        "from collections import Counter\n",
        "import nltk\n",
        "nltk.download('punkt')\n",
        "nltk.download('stopwords')\n",
        "from sklearn.cluster import KMeans\n",
        "from sklearn.metrics import silhouette_score\n",
        "from sklearn.feature_extraction.text import TfidfVectorizer\n",
        "from sklearn import metrics\n",
        "from sklearn.cluster import KMeans\n",
        "from yellowbrick.cluster import KElbowVisualizer\n",
        "from sklearn.metrics import silhouette_score\n",
        "\n",
        "\n",
        "import warnings\n",
        "warnings.filterwarnings(action='ignore')"
      ],
      "metadata": {
        "colab": {
          "base_uri": "https://localhost:8080/"
        },
        "id": "Y8zKJ_cgcz0_",
        "outputId": "a9e7a67c-f90c-40b7-fd1a-3db1d248e363"
      },
      "execution_count": 109,
      "outputs": [
        {
          "output_type": "stream",
          "name": "stdout",
          "text": [
            "[nltk_data] Downloading package punkt to /root/nltk_data...\n",
            "[nltk_data]   Package punkt is already up-to-date!\n",
            "[nltk_data] Downloading package stopwords to /root/nltk_data...\n",
            "[nltk_data]   Package stopwords is already up-to-date!\n"
          ]
        }
      ]
    },
    {
      "cell_type": "markdown",
      "source": [
        "# **Mounting Drive**"
      ],
      "metadata": {
        "id": "0UcNaVCKdngL"
      }
    },
    {
      "cell_type": "code",
      "source": [
        "# Drive Mounting\n",
        "from google.colab import drive\n",
        "drive.mount('/content/drive')"
      ],
      "metadata": {
        "colab": {
          "base_uri": "https://localhost:8080/"
        },
        "id": "2XhdwK_pduYD",
        "outputId": "7ef8b91d-d4c9-433c-f14f-0d72052b426b"
      },
      "execution_count": 110,
      "outputs": [
        {
          "output_type": "stream",
          "name": "stdout",
          "text": [
            "Drive already mounted at /content/drive; to attempt to forcibly remount, call drive.mount(\"/content/drive\", force_remount=True).\n"
          ]
        }
      ]
    },
    {
      "cell_type": "markdown",
      "source": [
        "# **Loading Dataset**"
      ],
      "metadata": {
        "id": "LLhKbGqhd8-i"
      }
    },
    {
      "cell_type": "code",
      "source": [
        "# Load Dataset\n",
        "Df =pd.read_csv('/content/drive/MyDrive/CAPSTONE PROJECT-1/NETFLIX MOVIES AND TV SHOWS CLUSTERING.csv')"
      ],
      "metadata": {
        "id": "T2up9WGNeE4m"
      },
      "execution_count": 111,
      "outputs": []
    },
    {
      "cell_type": "markdown",
      "source": [
        "#**Data Understanding**"
      ],
      "metadata": {
        "id": "j9RUB4DxfZwd"
      }
    },
    {
      "cell_type": "code",
      "source": [
        "# Display first five rows\n",
        "Df.head()"
      ],
      "metadata": {
        "colab": {
          "base_uri": "https://localhost:8080/",
          "height": 424
        },
        "id": "Mif4fRitfTat",
        "outputId": "c601c6eb-a22d-4e98-a952-98f526132897"
      },
      "execution_count": 112,
      "outputs": [
        {
          "output_type": "execute_result",
          "data": {
            "text/plain": [
              "  show_id     type  title           director  \\\n",
              "0      s1  TV Show     3%                NaN   \n",
              "1      s2    Movie   7:19  Jorge Michel Grau   \n",
              "2      s3    Movie  23:59       Gilbert Chan   \n",
              "3      s4    Movie      9        Shane Acker   \n",
              "4      s5    Movie     21     Robert Luketic   \n",
              "\n",
              "                                                cast        country  \\\n",
              "0  João Miguel, Bianca Comparato, Michel Gomes, R...         Brazil   \n",
              "1  Demián Bichir, Héctor Bonilla, Oscar Serrano, ...         Mexico   \n",
              "2  Tedd Chan, Stella Chung, Henley Hii, Lawrence ...      Singapore   \n",
              "3  Elijah Wood, John C. Reilly, Jennifer Connelly...  United States   \n",
              "4  Jim Sturgess, Kevin Spacey, Kate Bosworth, Aar...  United States   \n",
              "\n",
              "          date_added  release_year rating   duration  \\\n",
              "0    August 14, 2020          2020  TV-MA  4 Seasons   \n",
              "1  December 23, 2016          2016  TV-MA     93 min   \n",
              "2  December 20, 2018          2011      R     78 min   \n",
              "3  November 16, 2017          2009  PG-13     80 min   \n",
              "4    January 1, 2020          2008  PG-13    123 min   \n",
              "\n",
              "                                           listed_in  \\\n",
              "0  International TV Shows, TV Dramas, TV Sci-Fi &...   \n",
              "1                       Dramas, International Movies   \n",
              "2                Horror Movies, International Movies   \n",
              "3  Action & Adventure, Independent Movies, Sci-Fi...   \n",
              "4                                             Dramas   \n",
              "\n",
              "                                         description  \n",
              "0  In a future where the elite inhabit an island ...  \n",
              "1  After a devastating earthquake hits Mexico Cit...  \n",
              "2  When an army recruit is found dead, his fellow...  \n",
              "3  In a postapocalyptic world, rag-doll robots hi...  \n",
              "4  A brilliant group of students become card-coun...  "
            ],
            "text/html": [
              "\n",
              "  <div id=\"df-40347da2-1049-4093-a292-db56188522a9\">\n",
              "    <div class=\"colab-df-container\">\n",
              "      <div>\n",
              "<style scoped>\n",
              "    .dataframe tbody tr th:only-of-type {\n",
              "        vertical-align: middle;\n",
              "    }\n",
              "\n",
              "    .dataframe tbody tr th {\n",
              "        vertical-align: top;\n",
              "    }\n",
              "\n",
              "    .dataframe thead th {\n",
              "        text-align: right;\n",
              "    }\n",
              "</style>\n",
              "<table border=\"1\" class=\"dataframe\">\n",
              "  <thead>\n",
              "    <tr style=\"text-align: right;\">\n",
              "      <th></th>\n",
              "      <th>show_id</th>\n",
              "      <th>type</th>\n",
              "      <th>title</th>\n",
              "      <th>director</th>\n",
              "      <th>cast</th>\n",
              "      <th>country</th>\n",
              "      <th>date_added</th>\n",
              "      <th>release_year</th>\n",
              "      <th>rating</th>\n",
              "      <th>duration</th>\n",
              "      <th>listed_in</th>\n",
              "      <th>description</th>\n",
              "    </tr>\n",
              "  </thead>\n",
              "  <tbody>\n",
              "    <tr>\n",
              "      <th>0</th>\n",
              "      <td>s1</td>\n",
              "      <td>TV Show</td>\n",
              "      <td>3%</td>\n",
              "      <td>NaN</td>\n",
              "      <td>João Miguel, Bianca Comparato, Michel Gomes, R...</td>\n",
              "      <td>Brazil</td>\n",
              "      <td>August 14, 2020</td>\n",
              "      <td>2020</td>\n",
              "      <td>TV-MA</td>\n",
              "      <td>4 Seasons</td>\n",
              "      <td>International TV Shows, TV Dramas, TV Sci-Fi &amp;...</td>\n",
              "      <td>In a future where the elite inhabit an island ...</td>\n",
              "    </tr>\n",
              "    <tr>\n",
              "      <th>1</th>\n",
              "      <td>s2</td>\n",
              "      <td>Movie</td>\n",
              "      <td>7:19</td>\n",
              "      <td>Jorge Michel Grau</td>\n",
              "      <td>Demián Bichir, Héctor Bonilla, Oscar Serrano, ...</td>\n",
              "      <td>Mexico</td>\n",
              "      <td>December 23, 2016</td>\n",
              "      <td>2016</td>\n",
              "      <td>TV-MA</td>\n",
              "      <td>93 min</td>\n",
              "      <td>Dramas, International Movies</td>\n",
              "      <td>After a devastating earthquake hits Mexico Cit...</td>\n",
              "    </tr>\n",
              "    <tr>\n",
              "      <th>2</th>\n",
              "      <td>s3</td>\n",
              "      <td>Movie</td>\n",
              "      <td>23:59</td>\n",
              "      <td>Gilbert Chan</td>\n",
              "      <td>Tedd Chan, Stella Chung, Henley Hii, Lawrence ...</td>\n",
              "      <td>Singapore</td>\n",
              "      <td>December 20, 2018</td>\n",
              "      <td>2011</td>\n",
              "      <td>R</td>\n",
              "      <td>78 min</td>\n",
              "      <td>Horror Movies, International Movies</td>\n",
              "      <td>When an army recruit is found dead, his fellow...</td>\n",
              "    </tr>\n",
              "    <tr>\n",
              "      <th>3</th>\n",
              "      <td>s4</td>\n",
              "      <td>Movie</td>\n",
              "      <td>9</td>\n",
              "      <td>Shane Acker</td>\n",
              "      <td>Elijah Wood, John C. Reilly, Jennifer Connelly...</td>\n",
              "      <td>United States</td>\n",
              "      <td>November 16, 2017</td>\n",
              "      <td>2009</td>\n",
              "      <td>PG-13</td>\n",
              "      <td>80 min</td>\n",
              "      <td>Action &amp; Adventure, Independent Movies, Sci-Fi...</td>\n",
              "      <td>In a postapocalyptic world, rag-doll robots hi...</td>\n",
              "    </tr>\n",
              "    <tr>\n",
              "      <th>4</th>\n",
              "      <td>s5</td>\n",
              "      <td>Movie</td>\n",
              "      <td>21</td>\n",
              "      <td>Robert Luketic</td>\n",
              "      <td>Jim Sturgess, Kevin Spacey, Kate Bosworth, Aar...</td>\n",
              "      <td>United States</td>\n",
              "      <td>January 1, 2020</td>\n",
              "      <td>2008</td>\n",
              "      <td>PG-13</td>\n",
              "      <td>123 min</td>\n",
              "      <td>Dramas</td>\n",
              "      <td>A brilliant group of students become card-coun...</td>\n",
              "    </tr>\n",
              "  </tbody>\n",
              "</table>\n",
              "</div>\n",
              "      <button class=\"colab-df-convert\" onclick=\"convertToInteractive('df-40347da2-1049-4093-a292-db56188522a9')\"\n",
              "              title=\"Convert this dataframe to an interactive table.\"\n",
              "              style=\"display:none;\">\n",
              "        \n",
              "  <svg xmlns=\"http://www.w3.org/2000/svg\" height=\"24px\"viewBox=\"0 0 24 24\"\n",
              "       width=\"24px\">\n",
              "    <path d=\"M0 0h24v24H0V0z\" fill=\"none\"/>\n",
              "    <path d=\"M18.56 5.44l.94 2.06.94-2.06 2.06-.94-2.06-.94-.94-2.06-.94 2.06-2.06.94zm-11 1L8.5 8.5l.94-2.06 2.06-.94-2.06-.94L8.5 2.5l-.94 2.06-2.06.94zm10 10l.94 2.06.94-2.06 2.06-.94-2.06-.94-.94-2.06-.94 2.06-2.06.94z\"/><path d=\"M17.41 7.96l-1.37-1.37c-.4-.4-.92-.59-1.43-.59-.52 0-1.04.2-1.43.59L10.3 9.45l-7.72 7.72c-.78.78-.78 2.05 0 2.83L4 21.41c.39.39.9.59 1.41.59.51 0 1.02-.2 1.41-.59l7.78-7.78 2.81-2.81c.8-.78.8-2.07 0-2.86zM5.41 20L4 18.59l7.72-7.72 1.47 1.35L5.41 20z\"/>\n",
              "  </svg>\n",
              "      </button>\n",
              "      \n",
              "  <style>\n",
              "    .colab-df-container {\n",
              "      display:flex;\n",
              "      flex-wrap:wrap;\n",
              "      gap: 12px;\n",
              "    }\n",
              "\n",
              "    .colab-df-convert {\n",
              "      background-color: #E8F0FE;\n",
              "      border: none;\n",
              "      border-radius: 50%;\n",
              "      cursor: pointer;\n",
              "      display: none;\n",
              "      fill: #1967D2;\n",
              "      height: 32px;\n",
              "      padding: 0 0 0 0;\n",
              "      width: 32px;\n",
              "    }\n",
              "\n",
              "    .colab-df-convert:hover {\n",
              "      background-color: #E2EBFA;\n",
              "      box-shadow: 0px 1px 2px rgba(60, 64, 67, 0.3), 0px 1px 3px 1px rgba(60, 64, 67, 0.15);\n",
              "      fill: #174EA6;\n",
              "    }\n",
              "\n",
              "    [theme=dark] .colab-df-convert {\n",
              "      background-color: #3B4455;\n",
              "      fill: #D2E3FC;\n",
              "    }\n",
              "\n",
              "    [theme=dark] .colab-df-convert:hover {\n",
              "      background-color: #434B5C;\n",
              "      box-shadow: 0px 1px 3px 1px rgba(0, 0, 0, 0.15);\n",
              "      filter: drop-shadow(0px 1px 2px rgba(0, 0, 0, 0.3));\n",
              "      fill: #FFFFFF;\n",
              "    }\n",
              "  </style>\n",
              "\n",
              "      <script>\n",
              "        const buttonEl =\n",
              "          document.querySelector('#df-40347da2-1049-4093-a292-db56188522a9 button.colab-df-convert');\n",
              "        buttonEl.style.display =\n",
              "          google.colab.kernel.accessAllowed ? 'block' : 'none';\n",
              "\n",
              "        async function convertToInteractive(key) {\n",
              "          const element = document.querySelector('#df-40347da2-1049-4093-a292-db56188522a9');\n",
              "          const dataTable =\n",
              "            await google.colab.kernel.invokeFunction('convertToInteractive',\n",
              "                                                     [key], {});\n",
              "          if (!dataTable) return;\n",
              "\n",
              "          const docLinkHtml = 'Like what you see? Visit the ' +\n",
              "            '<a target=\"_blank\" href=https://colab.research.google.com/notebooks/data_table.ipynb>data table notebook</a>'\n",
              "            + ' to learn more about interactive tables.';\n",
              "          element.innerHTML = '';\n",
              "          dataTable['output_type'] = 'display_data';\n",
              "          await google.colab.output.renderOutput(dataTable, element);\n",
              "          const docLink = document.createElement('div');\n",
              "          docLink.innerHTML = docLinkHtml;\n",
              "          element.appendChild(docLink);\n",
              "        }\n",
              "      </script>\n",
              "    </div>\n",
              "  </div>\n",
              "  "
            ]
          },
          "metadata": {},
          "execution_count": 112
        }
      ]
    },
    {
      "cell_type": "code",
      "source": [
        "# Display Last five rows\n",
        "Df.tail()"
      ],
      "metadata": {
        "colab": {
          "base_uri": "https://localhost:8080/",
          "height": 476
        },
        "id": "uAkxXjvsfxM_",
        "outputId": "dd5d9fe2-e7fc-4898-a294-dd5a2d5504cf"
      },
      "execution_count": 113,
      "outputs": [
        {
          "output_type": "execute_result",
          "data": {
            "text/plain": [
              "     show_id     type                                    title     director  \\\n",
              "7782   s7783    Movie                                     Zozo  Josef Fares   \n",
              "7783   s7784    Movie                                   Zubaan  Mozez Singh   \n",
              "7784   s7785    Movie                        Zulu Man in Japan          NaN   \n",
              "7785   s7786  TV Show                    Zumbo's Just Desserts          NaN   \n",
              "7786   s7787    Movie  ZZ TOP: THAT LITTLE OL' BAND FROM TEXAS     Sam Dunn   \n",
              "\n",
              "                                                   cast  \\\n",
              "7782  Imad Creidi, Antoinette Turk, Elias Gergi, Car...   \n",
              "7783  Vicky Kaushal, Sarah-Jane Dias, Raaghav Chanan...   \n",
              "7784                                            Nasty C   \n",
              "7785                         Adriano Zumbo, Rachel Khoo   \n",
              "7786                                                NaN   \n",
              "\n",
              "                                                country          date_added  \\\n",
              "7782  Sweden, Czech Republic, United Kingdom, Denmar...    October 19, 2020   \n",
              "7783                                              India       March 2, 2019   \n",
              "7784                                                NaN  September 25, 2020   \n",
              "7785                                          Australia    October 31, 2020   \n",
              "7786              United Kingdom, Canada, United States       March 1, 2020   \n",
              "\n",
              "      release_year rating  duration  \\\n",
              "7782          2005  TV-MA    99 min   \n",
              "7783          2015  TV-14   111 min   \n",
              "7784          2019  TV-MA    44 min   \n",
              "7785          2019  TV-PG  1 Season   \n",
              "7786          2019  TV-MA    90 min   \n",
              "\n",
              "                                              listed_in  \\\n",
              "7782                       Dramas, International Movies   \n",
              "7783     Dramas, International Movies, Music & Musicals   \n",
              "7784  Documentaries, International Movies, Music & M...   \n",
              "7785                 International TV Shows, Reality TV   \n",
              "7786                    Documentaries, Music & Musicals   \n",
              "\n",
              "                                            description  \n",
              "7782  When Lebanon's Civil War deprives Zozo of his ...  \n",
              "7783  A scrappy but poor boy worms his way into a ty...  \n",
              "7784  In this documentary, South African rapper Nast...  \n",
              "7785  Dessert wizard Adriano Zumbo looks for the nex...  \n",
              "7786  This documentary delves into the mystique behi...  "
            ],
            "text/html": [
              "\n",
              "  <div id=\"df-fc80fa0e-c183-41f0-8bd4-4406d49b7a4f\">\n",
              "    <div class=\"colab-df-container\">\n",
              "      <div>\n",
              "<style scoped>\n",
              "    .dataframe tbody tr th:only-of-type {\n",
              "        vertical-align: middle;\n",
              "    }\n",
              "\n",
              "    .dataframe tbody tr th {\n",
              "        vertical-align: top;\n",
              "    }\n",
              "\n",
              "    .dataframe thead th {\n",
              "        text-align: right;\n",
              "    }\n",
              "</style>\n",
              "<table border=\"1\" class=\"dataframe\">\n",
              "  <thead>\n",
              "    <tr style=\"text-align: right;\">\n",
              "      <th></th>\n",
              "      <th>show_id</th>\n",
              "      <th>type</th>\n",
              "      <th>title</th>\n",
              "      <th>director</th>\n",
              "      <th>cast</th>\n",
              "      <th>country</th>\n",
              "      <th>date_added</th>\n",
              "      <th>release_year</th>\n",
              "      <th>rating</th>\n",
              "      <th>duration</th>\n",
              "      <th>listed_in</th>\n",
              "      <th>description</th>\n",
              "    </tr>\n",
              "  </thead>\n",
              "  <tbody>\n",
              "    <tr>\n",
              "      <th>7782</th>\n",
              "      <td>s7783</td>\n",
              "      <td>Movie</td>\n",
              "      <td>Zozo</td>\n",
              "      <td>Josef Fares</td>\n",
              "      <td>Imad Creidi, Antoinette Turk, Elias Gergi, Car...</td>\n",
              "      <td>Sweden, Czech Republic, United Kingdom, Denmar...</td>\n",
              "      <td>October 19, 2020</td>\n",
              "      <td>2005</td>\n",
              "      <td>TV-MA</td>\n",
              "      <td>99 min</td>\n",
              "      <td>Dramas, International Movies</td>\n",
              "      <td>When Lebanon's Civil War deprives Zozo of his ...</td>\n",
              "    </tr>\n",
              "    <tr>\n",
              "      <th>7783</th>\n",
              "      <td>s7784</td>\n",
              "      <td>Movie</td>\n",
              "      <td>Zubaan</td>\n",
              "      <td>Mozez Singh</td>\n",
              "      <td>Vicky Kaushal, Sarah-Jane Dias, Raaghav Chanan...</td>\n",
              "      <td>India</td>\n",
              "      <td>March 2, 2019</td>\n",
              "      <td>2015</td>\n",
              "      <td>TV-14</td>\n",
              "      <td>111 min</td>\n",
              "      <td>Dramas, International Movies, Music &amp; Musicals</td>\n",
              "      <td>A scrappy but poor boy worms his way into a ty...</td>\n",
              "    </tr>\n",
              "    <tr>\n",
              "      <th>7784</th>\n",
              "      <td>s7785</td>\n",
              "      <td>Movie</td>\n",
              "      <td>Zulu Man in Japan</td>\n",
              "      <td>NaN</td>\n",
              "      <td>Nasty C</td>\n",
              "      <td>NaN</td>\n",
              "      <td>September 25, 2020</td>\n",
              "      <td>2019</td>\n",
              "      <td>TV-MA</td>\n",
              "      <td>44 min</td>\n",
              "      <td>Documentaries, International Movies, Music &amp; M...</td>\n",
              "      <td>In this documentary, South African rapper Nast...</td>\n",
              "    </tr>\n",
              "    <tr>\n",
              "      <th>7785</th>\n",
              "      <td>s7786</td>\n",
              "      <td>TV Show</td>\n",
              "      <td>Zumbo's Just Desserts</td>\n",
              "      <td>NaN</td>\n",
              "      <td>Adriano Zumbo, Rachel Khoo</td>\n",
              "      <td>Australia</td>\n",
              "      <td>October 31, 2020</td>\n",
              "      <td>2019</td>\n",
              "      <td>TV-PG</td>\n",
              "      <td>1 Season</td>\n",
              "      <td>International TV Shows, Reality TV</td>\n",
              "      <td>Dessert wizard Adriano Zumbo looks for the nex...</td>\n",
              "    </tr>\n",
              "    <tr>\n",
              "      <th>7786</th>\n",
              "      <td>s7787</td>\n",
              "      <td>Movie</td>\n",
              "      <td>ZZ TOP: THAT LITTLE OL' BAND FROM TEXAS</td>\n",
              "      <td>Sam Dunn</td>\n",
              "      <td>NaN</td>\n",
              "      <td>United Kingdom, Canada, United States</td>\n",
              "      <td>March 1, 2020</td>\n",
              "      <td>2019</td>\n",
              "      <td>TV-MA</td>\n",
              "      <td>90 min</td>\n",
              "      <td>Documentaries, Music &amp; Musicals</td>\n",
              "      <td>This documentary delves into the mystique behi...</td>\n",
              "    </tr>\n",
              "  </tbody>\n",
              "</table>\n",
              "</div>\n",
              "      <button class=\"colab-df-convert\" onclick=\"convertToInteractive('df-fc80fa0e-c183-41f0-8bd4-4406d49b7a4f')\"\n",
              "              title=\"Convert this dataframe to an interactive table.\"\n",
              "              style=\"display:none;\">\n",
              "        \n",
              "  <svg xmlns=\"http://www.w3.org/2000/svg\" height=\"24px\"viewBox=\"0 0 24 24\"\n",
              "       width=\"24px\">\n",
              "    <path d=\"M0 0h24v24H0V0z\" fill=\"none\"/>\n",
              "    <path d=\"M18.56 5.44l.94 2.06.94-2.06 2.06-.94-2.06-.94-.94-2.06-.94 2.06-2.06.94zm-11 1L8.5 8.5l.94-2.06 2.06-.94-2.06-.94L8.5 2.5l-.94 2.06-2.06.94zm10 10l.94 2.06.94-2.06 2.06-.94-2.06-.94-.94-2.06-.94 2.06-2.06.94z\"/><path d=\"M17.41 7.96l-1.37-1.37c-.4-.4-.92-.59-1.43-.59-.52 0-1.04.2-1.43.59L10.3 9.45l-7.72 7.72c-.78.78-.78 2.05 0 2.83L4 21.41c.39.39.9.59 1.41.59.51 0 1.02-.2 1.41-.59l7.78-7.78 2.81-2.81c.8-.78.8-2.07 0-2.86zM5.41 20L4 18.59l7.72-7.72 1.47 1.35L5.41 20z\"/>\n",
              "  </svg>\n",
              "      </button>\n",
              "      \n",
              "  <style>\n",
              "    .colab-df-container {\n",
              "      display:flex;\n",
              "      flex-wrap:wrap;\n",
              "      gap: 12px;\n",
              "    }\n",
              "\n",
              "    .colab-df-convert {\n",
              "      background-color: #E8F0FE;\n",
              "      border: none;\n",
              "      border-radius: 50%;\n",
              "      cursor: pointer;\n",
              "      display: none;\n",
              "      fill: #1967D2;\n",
              "      height: 32px;\n",
              "      padding: 0 0 0 0;\n",
              "      width: 32px;\n",
              "    }\n",
              "\n",
              "    .colab-df-convert:hover {\n",
              "      background-color: #E2EBFA;\n",
              "      box-shadow: 0px 1px 2px rgba(60, 64, 67, 0.3), 0px 1px 3px 1px rgba(60, 64, 67, 0.15);\n",
              "      fill: #174EA6;\n",
              "    }\n",
              "\n",
              "    [theme=dark] .colab-df-convert {\n",
              "      background-color: #3B4455;\n",
              "      fill: #D2E3FC;\n",
              "    }\n",
              "\n",
              "    [theme=dark] .colab-df-convert:hover {\n",
              "      background-color: #434B5C;\n",
              "      box-shadow: 0px 1px 3px 1px rgba(0, 0, 0, 0.15);\n",
              "      filter: drop-shadow(0px 1px 2px rgba(0, 0, 0, 0.3));\n",
              "      fill: #FFFFFF;\n",
              "    }\n",
              "  </style>\n",
              "\n",
              "      <script>\n",
              "        const buttonEl =\n",
              "          document.querySelector('#df-fc80fa0e-c183-41f0-8bd4-4406d49b7a4f button.colab-df-convert');\n",
              "        buttonEl.style.display =\n",
              "          google.colab.kernel.accessAllowed ? 'block' : 'none';\n",
              "\n",
              "        async function convertToInteractive(key) {\n",
              "          const element = document.querySelector('#df-fc80fa0e-c183-41f0-8bd4-4406d49b7a4f');\n",
              "          const dataTable =\n",
              "            await google.colab.kernel.invokeFunction('convertToInteractive',\n",
              "                                                     [key], {});\n",
              "          if (!dataTable) return;\n",
              "\n",
              "          const docLinkHtml = 'Like what you see? Visit the ' +\n",
              "            '<a target=\"_blank\" href=https://colab.research.google.com/notebooks/data_table.ipynb>data table notebook</a>'\n",
              "            + ' to learn more about interactive tables.';\n",
              "          element.innerHTML = '';\n",
              "          dataTable['output_type'] = 'display_data';\n",
              "          await google.colab.output.renderOutput(dataTable, element);\n",
              "          const docLink = document.createElement('div');\n",
              "          docLink.innerHTML = docLinkHtml;\n",
              "          element.appendChild(docLink);\n",
              "        }\n",
              "      </script>\n",
              "    </div>\n",
              "  </div>\n",
              "  "
            ]
          },
          "metadata": {},
          "execution_count": 113
        }
      ]
    },
    {
      "cell_type": "code",
      "source": [
        "# check Data\n",
        "Df.shape"
      ],
      "metadata": {
        "colab": {
          "base_uri": "https://localhost:8080/"
        },
        "id": "Myv_I2E6hJyT",
        "outputId": "d2b99a6c-17b8-4592-b402-79cb372d37bc"
      },
      "execution_count": 114,
      "outputs": [
        {
          "output_type": "execute_result",
          "data": {
            "text/plain": [
              "(7787, 12)"
            ]
          },
          "metadata": {},
          "execution_count": 114
        }
      ]
    },
    {
      "cell_type": "code",
      "source": [
        "# check duplicates in dataset\n",
        "len(Df[Df.duplicated()])"
      ],
      "metadata": {
        "colab": {
          "base_uri": "https://localhost:8080/"
        },
        "id": "Q1fU3gMihSl2",
        "outputId": "173c4363-2671-4710-af57-248ec7737d54"
      },
      "execution_count": 115,
      "outputs": [
        {
          "output_type": "execute_result",
          "data": {
            "text/plain": [
              "0"
            ]
          },
          "metadata": {},
          "execution_count": 115
        }
      ]
    },
    {
      "cell_type": "code",
      "source": [
        "# check information\n",
        "Df.info()"
      ],
      "metadata": {
        "colab": {
          "base_uri": "https://localhost:8080/"
        },
        "id": "HYXjjmTV3wV7",
        "outputId": "2dcc8346-1041-4709-aee7-9e49d3295bfe"
      },
      "execution_count": 116,
      "outputs": [
        {
          "output_type": "stream",
          "name": "stdout",
          "text": [
            "<class 'pandas.core.frame.DataFrame'>\n",
            "RangeIndex: 7787 entries, 0 to 7786\n",
            "Data columns (total 12 columns):\n",
            " #   Column        Non-Null Count  Dtype \n",
            "---  ------        --------------  ----- \n",
            " 0   show_id       7787 non-null   object\n",
            " 1   type          7787 non-null   object\n",
            " 2   title         7787 non-null   object\n",
            " 3   director      5398 non-null   object\n",
            " 4   cast          7069 non-null   object\n",
            " 5   country       7280 non-null   object\n",
            " 6   date_added    7777 non-null   object\n",
            " 7   release_year  7787 non-null   int64 \n",
            " 8   rating        7780 non-null   object\n",
            " 9   duration      7787 non-null   object\n",
            " 10  listed_in     7787 non-null   object\n",
            " 11  description   7787 non-null   object\n",
            "dtypes: int64(1), object(11)\n",
            "memory usage: 730.2+ KB\n"
          ]
        }
      ]
    },
    {
      "cell_type": "code",
      "source": [
        "# check columns details\n",
        "Df.columns"
      ],
      "metadata": {
        "colab": {
          "base_uri": "https://localhost:8080/"
        },
        "id": "WZxsfYt54CtN",
        "outputId": "80d795ee-9363-40d6-c668-f538a57a7cef"
      },
      "execution_count": 117,
      "outputs": [
        {
          "output_type": "execute_result",
          "data": {
            "text/plain": [
              "Index(['show_id', 'type', 'title', 'director', 'cast', 'country', 'date_added',\n",
              "       'release_year', 'rating', 'duration', 'listed_in', 'description'],\n",
              "      dtype='object')"
            ]
          },
          "metadata": {},
          "execution_count": 117
        }
      ]
    },
    {
      "cell_type": "code",
      "source": [
        "# find details\n",
        "Df.describe(include='all')"
      ],
      "metadata": {
        "colab": {
          "base_uri": "https://localhost:8080/",
          "height": 456
        },
        "id": "mPVcjY645hRG",
        "outputId": "7efd55b1-eadb-485f-dabf-977ca0d78330"
      },
      "execution_count": 118,
      "outputs": [
        {
          "output_type": "execute_result",
          "data": {
            "text/plain": [
              "       show_id   type title                director                cast  \\\n",
              "count     7787   7787  7787                    5398                7069   \n",
              "unique    7787      2  7787                    4049                6831   \n",
              "top         s1  Movie    3%  Raúl Campos, Jan Suter  David Attenborough   \n",
              "freq         1   5377     1                      18                  18   \n",
              "mean       NaN    NaN   NaN                     NaN                 NaN   \n",
              "std        NaN    NaN   NaN                     NaN                 NaN   \n",
              "min        NaN    NaN   NaN                     NaN                 NaN   \n",
              "25%        NaN    NaN   NaN                     NaN                 NaN   \n",
              "50%        NaN    NaN   NaN                     NaN                 NaN   \n",
              "75%        NaN    NaN   NaN                     NaN                 NaN   \n",
              "max        NaN    NaN   NaN                     NaN                 NaN   \n",
              "\n",
              "              country       date_added  release_year rating  duration  \\\n",
              "count            7280             7777   7787.000000   7780      7787   \n",
              "unique            681             1565           NaN     14       216   \n",
              "top     United States  January 1, 2020           NaN  TV-MA  1 Season   \n",
              "freq             2555              118           NaN   2863      1608   \n",
              "mean              NaN              NaN   2013.932580    NaN       NaN   \n",
              "std               NaN              NaN      8.757395    NaN       NaN   \n",
              "min               NaN              NaN   1925.000000    NaN       NaN   \n",
              "25%               NaN              NaN   2013.000000    NaN       NaN   \n",
              "50%               NaN              NaN   2017.000000    NaN       NaN   \n",
              "75%               NaN              NaN   2018.000000    NaN       NaN   \n",
              "max               NaN              NaN   2021.000000    NaN       NaN   \n",
              "\n",
              "            listed_in                                        description  \n",
              "count            7787                                               7787  \n",
              "unique            492                                               7769  \n",
              "top     Documentaries  Multiple women report their husbands as missin...  \n",
              "freq              334                                                  3  \n",
              "mean              NaN                                                NaN  \n",
              "std               NaN                                                NaN  \n",
              "min               NaN                                                NaN  \n",
              "25%               NaN                                                NaN  \n",
              "50%               NaN                                                NaN  \n",
              "75%               NaN                                                NaN  \n",
              "max               NaN                                                NaN  "
            ],
            "text/html": [
              "\n",
              "  <div id=\"df-3fa3cecc-cb46-4445-abc6-3d6b95dc0c71\">\n",
              "    <div class=\"colab-df-container\">\n",
              "      <div>\n",
              "<style scoped>\n",
              "    .dataframe tbody tr th:only-of-type {\n",
              "        vertical-align: middle;\n",
              "    }\n",
              "\n",
              "    .dataframe tbody tr th {\n",
              "        vertical-align: top;\n",
              "    }\n",
              "\n",
              "    .dataframe thead th {\n",
              "        text-align: right;\n",
              "    }\n",
              "</style>\n",
              "<table border=\"1\" class=\"dataframe\">\n",
              "  <thead>\n",
              "    <tr style=\"text-align: right;\">\n",
              "      <th></th>\n",
              "      <th>show_id</th>\n",
              "      <th>type</th>\n",
              "      <th>title</th>\n",
              "      <th>director</th>\n",
              "      <th>cast</th>\n",
              "      <th>country</th>\n",
              "      <th>date_added</th>\n",
              "      <th>release_year</th>\n",
              "      <th>rating</th>\n",
              "      <th>duration</th>\n",
              "      <th>listed_in</th>\n",
              "      <th>description</th>\n",
              "    </tr>\n",
              "  </thead>\n",
              "  <tbody>\n",
              "    <tr>\n",
              "      <th>count</th>\n",
              "      <td>7787</td>\n",
              "      <td>7787</td>\n",
              "      <td>7787</td>\n",
              "      <td>5398</td>\n",
              "      <td>7069</td>\n",
              "      <td>7280</td>\n",
              "      <td>7777</td>\n",
              "      <td>7787.000000</td>\n",
              "      <td>7780</td>\n",
              "      <td>7787</td>\n",
              "      <td>7787</td>\n",
              "      <td>7787</td>\n",
              "    </tr>\n",
              "    <tr>\n",
              "      <th>unique</th>\n",
              "      <td>7787</td>\n",
              "      <td>2</td>\n",
              "      <td>7787</td>\n",
              "      <td>4049</td>\n",
              "      <td>6831</td>\n",
              "      <td>681</td>\n",
              "      <td>1565</td>\n",
              "      <td>NaN</td>\n",
              "      <td>14</td>\n",
              "      <td>216</td>\n",
              "      <td>492</td>\n",
              "      <td>7769</td>\n",
              "    </tr>\n",
              "    <tr>\n",
              "      <th>top</th>\n",
              "      <td>s1</td>\n",
              "      <td>Movie</td>\n",
              "      <td>3%</td>\n",
              "      <td>Raúl Campos, Jan Suter</td>\n",
              "      <td>David Attenborough</td>\n",
              "      <td>United States</td>\n",
              "      <td>January 1, 2020</td>\n",
              "      <td>NaN</td>\n",
              "      <td>TV-MA</td>\n",
              "      <td>1 Season</td>\n",
              "      <td>Documentaries</td>\n",
              "      <td>Multiple women report their husbands as missin...</td>\n",
              "    </tr>\n",
              "    <tr>\n",
              "      <th>freq</th>\n",
              "      <td>1</td>\n",
              "      <td>5377</td>\n",
              "      <td>1</td>\n",
              "      <td>18</td>\n",
              "      <td>18</td>\n",
              "      <td>2555</td>\n",
              "      <td>118</td>\n",
              "      <td>NaN</td>\n",
              "      <td>2863</td>\n",
              "      <td>1608</td>\n",
              "      <td>334</td>\n",
              "      <td>3</td>\n",
              "    </tr>\n",
              "    <tr>\n",
              "      <th>mean</th>\n",
              "      <td>NaN</td>\n",
              "      <td>NaN</td>\n",
              "      <td>NaN</td>\n",
              "      <td>NaN</td>\n",
              "      <td>NaN</td>\n",
              "      <td>NaN</td>\n",
              "      <td>NaN</td>\n",
              "      <td>2013.932580</td>\n",
              "      <td>NaN</td>\n",
              "      <td>NaN</td>\n",
              "      <td>NaN</td>\n",
              "      <td>NaN</td>\n",
              "    </tr>\n",
              "    <tr>\n",
              "      <th>std</th>\n",
              "      <td>NaN</td>\n",
              "      <td>NaN</td>\n",
              "      <td>NaN</td>\n",
              "      <td>NaN</td>\n",
              "      <td>NaN</td>\n",
              "      <td>NaN</td>\n",
              "      <td>NaN</td>\n",
              "      <td>8.757395</td>\n",
              "      <td>NaN</td>\n",
              "      <td>NaN</td>\n",
              "      <td>NaN</td>\n",
              "      <td>NaN</td>\n",
              "    </tr>\n",
              "    <tr>\n",
              "      <th>min</th>\n",
              "      <td>NaN</td>\n",
              "      <td>NaN</td>\n",
              "      <td>NaN</td>\n",
              "      <td>NaN</td>\n",
              "      <td>NaN</td>\n",
              "      <td>NaN</td>\n",
              "      <td>NaN</td>\n",
              "      <td>1925.000000</td>\n",
              "      <td>NaN</td>\n",
              "      <td>NaN</td>\n",
              "      <td>NaN</td>\n",
              "      <td>NaN</td>\n",
              "    </tr>\n",
              "    <tr>\n",
              "      <th>25%</th>\n",
              "      <td>NaN</td>\n",
              "      <td>NaN</td>\n",
              "      <td>NaN</td>\n",
              "      <td>NaN</td>\n",
              "      <td>NaN</td>\n",
              "      <td>NaN</td>\n",
              "      <td>NaN</td>\n",
              "      <td>2013.000000</td>\n",
              "      <td>NaN</td>\n",
              "      <td>NaN</td>\n",
              "      <td>NaN</td>\n",
              "      <td>NaN</td>\n",
              "    </tr>\n",
              "    <tr>\n",
              "      <th>50%</th>\n",
              "      <td>NaN</td>\n",
              "      <td>NaN</td>\n",
              "      <td>NaN</td>\n",
              "      <td>NaN</td>\n",
              "      <td>NaN</td>\n",
              "      <td>NaN</td>\n",
              "      <td>NaN</td>\n",
              "      <td>2017.000000</td>\n",
              "      <td>NaN</td>\n",
              "      <td>NaN</td>\n",
              "      <td>NaN</td>\n",
              "      <td>NaN</td>\n",
              "    </tr>\n",
              "    <tr>\n",
              "      <th>75%</th>\n",
              "      <td>NaN</td>\n",
              "      <td>NaN</td>\n",
              "      <td>NaN</td>\n",
              "      <td>NaN</td>\n",
              "      <td>NaN</td>\n",
              "      <td>NaN</td>\n",
              "      <td>NaN</td>\n",
              "      <td>2018.000000</td>\n",
              "      <td>NaN</td>\n",
              "      <td>NaN</td>\n",
              "      <td>NaN</td>\n",
              "      <td>NaN</td>\n",
              "    </tr>\n",
              "    <tr>\n",
              "      <th>max</th>\n",
              "      <td>NaN</td>\n",
              "      <td>NaN</td>\n",
              "      <td>NaN</td>\n",
              "      <td>NaN</td>\n",
              "      <td>NaN</td>\n",
              "      <td>NaN</td>\n",
              "      <td>NaN</td>\n",
              "      <td>2021.000000</td>\n",
              "      <td>NaN</td>\n",
              "      <td>NaN</td>\n",
              "      <td>NaN</td>\n",
              "      <td>NaN</td>\n",
              "    </tr>\n",
              "  </tbody>\n",
              "</table>\n",
              "</div>\n",
              "      <button class=\"colab-df-convert\" onclick=\"convertToInteractive('df-3fa3cecc-cb46-4445-abc6-3d6b95dc0c71')\"\n",
              "              title=\"Convert this dataframe to an interactive table.\"\n",
              "              style=\"display:none;\">\n",
              "        \n",
              "  <svg xmlns=\"http://www.w3.org/2000/svg\" height=\"24px\"viewBox=\"0 0 24 24\"\n",
              "       width=\"24px\">\n",
              "    <path d=\"M0 0h24v24H0V0z\" fill=\"none\"/>\n",
              "    <path d=\"M18.56 5.44l.94 2.06.94-2.06 2.06-.94-2.06-.94-.94-2.06-.94 2.06-2.06.94zm-11 1L8.5 8.5l.94-2.06 2.06-.94-2.06-.94L8.5 2.5l-.94 2.06-2.06.94zm10 10l.94 2.06.94-2.06 2.06-.94-2.06-.94-.94-2.06-.94 2.06-2.06.94z\"/><path d=\"M17.41 7.96l-1.37-1.37c-.4-.4-.92-.59-1.43-.59-.52 0-1.04.2-1.43.59L10.3 9.45l-7.72 7.72c-.78.78-.78 2.05 0 2.83L4 21.41c.39.39.9.59 1.41.59.51 0 1.02-.2 1.41-.59l7.78-7.78 2.81-2.81c.8-.78.8-2.07 0-2.86zM5.41 20L4 18.59l7.72-7.72 1.47 1.35L5.41 20z\"/>\n",
              "  </svg>\n",
              "      </button>\n",
              "      \n",
              "  <style>\n",
              "    .colab-df-container {\n",
              "      display:flex;\n",
              "      flex-wrap:wrap;\n",
              "      gap: 12px;\n",
              "    }\n",
              "\n",
              "    .colab-df-convert {\n",
              "      background-color: #E8F0FE;\n",
              "      border: none;\n",
              "      border-radius: 50%;\n",
              "      cursor: pointer;\n",
              "      display: none;\n",
              "      fill: #1967D2;\n",
              "      height: 32px;\n",
              "      padding: 0 0 0 0;\n",
              "      width: 32px;\n",
              "    }\n",
              "\n",
              "    .colab-df-convert:hover {\n",
              "      background-color: #E2EBFA;\n",
              "      box-shadow: 0px 1px 2px rgba(60, 64, 67, 0.3), 0px 1px 3px 1px rgba(60, 64, 67, 0.15);\n",
              "      fill: #174EA6;\n",
              "    }\n",
              "\n",
              "    [theme=dark] .colab-df-convert {\n",
              "      background-color: #3B4455;\n",
              "      fill: #D2E3FC;\n",
              "    }\n",
              "\n",
              "    [theme=dark] .colab-df-convert:hover {\n",
              "      background-color: #434B5C;\n",
              "      box-shadow: 0px 1px 3px 1px rgba(0, 0, 0, 0.15);\n",
              "      filter: drop-shadow(0px 1px 2px rgba(0, 0, 0, 0.3));\n",
              "      fill: #FFFFFF;\n",
              "    }\n",
              "  </style>\n",
              "\n",
              "      <script>\n",
              "        const buttonEl =\n",
              "          document.querySelector('#df-3fa3cecc-cb46-4445-abc6-3d6b95dc0c71 button.colab-df-convert');\n",
              "        buttonEl.style.display =\n",
              "          google.colab.kernel.accessAllowed ? 'block' : 'none';\n",
              "\n",
              "        async function convertToInteractive(key) {\n",
              "          const element = document.querySelector('#df-3fa3cecc-cb46-4445-abc6-3d6b95dc0c71');\n",
              "          const dataTable =\n",
              "            await google.colab.kernel.invokeFunction('convertToInteractive',\n",
              "                                                     [key], {});\n",
              "          if (!dataTable) return;\n",
              "\n",
              "          const docLinkHtml = 'Like what you see? Visit the ' +\n",
              "            '<a target=\"_blank\" href=https://colab.research.google.com/notebooks/data_table.ipynb>data table notebook</a>'\n",
              "            + ' to learn more about interactive tables.';\n",
              "          element.innerHTML = '';\n",
              "          dataTable['output_type'] = 'display_data';\n",
              "          await google.colab.output.renderOutput(dataTable, element);\n",
              "          const docLink = document.createElement('div');\n",
              "          docLink.innerHTML = docLinkHtml;\n",
              "          element.appendChild(docLink);\n",
              "        }\n",
              "      </script>\n",
              "    </div>\n",
              "  </div>\n",
              "  "
            ]
          },
          "metadata": {},
          "execution_count": 118
        }
      ]
    },
    {
      "cell_type": "markdown",
      "source": [
        "# **Handling Null values**"
      ],
      "metadata": {
        "id": "JRyBncrE6DJd"
      }
    },
    {
      "cell_type": "code",
      "source": [
        "# Find the null value for each column\n",
        "Df.isnull().sum()"
      ],
      "metadata": {
        "colab": {
          "base_uri": "https://localhost:8080/"
        },
        "id": "CYnz_btf6QxC",
        "outputId": "fe1a6691-4265-4bb4-98a6-97f94f8e1308"
      },
      "execution_count": 119,
      "outputs": [
        {
          "output_type": "execute_result",
          "data": {
            "text/plain": [
              "show_id            0\n",
              "type               0\n",
              "title              0\n",
              "director        2389\n",
              "cast             718\n",
              "country          507\n",
              "date_added        10\n",
              "release_year       0\n",
              "rating             7\n",
              "duration           0\n",
              "listed_in          0\n",
              "description        0\n",
              "dtype: int64"
            ]
          },
          "metadata": {},
          "execution_count": 119
        }
      ]
    },
    {
      "cell_type": "code",
      "source": [
        "# Display the unique values \n",
        "Df.nunique()"
      ],
      "metadata": {
        "colab": {
          "base_uri": "https://localhost:8080/"
        },
        "id": "lHctdF0u6nmO",
        "outputId": "1f1f5d7f-e95c-4c73-b554-e3110cb7d597"
      },
      "execution_count": 120,
      "outputs": [
        {
          "output_type": "execute_result",
          "data": {
            "text/plain": [
              "show_id         7787\n",
              "type               2\n",
              "title           7787\n",
              "director        4049\n",
              "cast            6831\n",
              "country          681\n",
              "date_added      1565\n",
              "release_year      73\n",
              "rating            14\n",
              "duration         216\n",
              "listed_in        492\n",
              "description     7769\n",
              "dtype: int64"
            ]
          },
          "metadata": {},
          "execution_count": 120
        }
      ]
    },
    {
      "cell_type": "code",
      "source": [
        "# FIND TYPE OF SHOWS\n",
        "\n",
        "Df.type.unique()"
      ],
      "metadata": {
        "colab": {
          "base_uri": "https://localhost:8080/"
        },
        "id": "JmCtI_ru7xwJ",
        "outputId": "e52e64f6-8250-4827-86ea-c143a31cf015"
      },
      "execution_count": 121,
      "outputs": [
        {
          "output_type": "execute_result",
          "data": {
            "text/plain": [
              "array(['TV Show', 'Movie'], dtype=object)"
            ]
          },
          "metadata": {},
          "execution_count": 121
        }
      ]
    },
    {
      "cell_type": "code",
      "source": [
        "# Rating from Dataset\n",
        "\n",
        "Df.rating.unique()"
      ],
      "metadata": {
        "colab": {
          "base_uri": "https://localhost:8080/"
        },
        "id": "F9HEL6FBUsSb",
        "outputId": "a99755f2-9987-4bbd-a497-550eb2e4b17b"
      },
      "execution_count": 122,
      "outputs": [
        {
          "output_type": "execute_result",
          "data": {
            "text/plain": [
              "array(['TV-MA', 'R', 'PG-13', 'TV-14', 'TV-PG', 'NR', 'TV-G', 'TV-Y', nan,\n",
              "       'TV-Y7', 'PG', 'G', 'NC-17', 'TV-Y7-FV', 'UR'], dtype=object)"
            ]
          },
          "metadata": {},
          "execution_count": 122
        }
      ]
    },
    {
      "cell_type": "markdown",
      "source": [
        "**Handling Null Values**"
      ],
      "metadata": {
        "id": "Kj_DOiYSVMPR"
      }
    },
    {
      "cell_type": "code",
      "source": [
        "# Checking Null Values\n",
        "\n",
        "Df.isnull().sum()"
      ],
      "metadata": {
        "colab": {
          "base_uri": "https://localhost:8080/"
        },
        "id": "3auGkllYVHUU",
        "outputId": "cf6e120c-e0ed-4a4a-b2d1-706416c64331"
      },
      "execution_count": 123,
      "outputs": [
        {
          "output_type": "execute_result",
          "data": {
            "text/plain": [
              "show_id            0\n",
              "type               0\n",
              "title              0\n",
              "director        2389\n",
              "cast             718\n",
              "country          507\n",
              "date_added        10\n",
              "release_year       0\n",
              "rating             7\n",
              "duration           0\n",
              "listed_in          0\n",
              "description        0\n",
              "dtype: int64"
            ]
          },
          "metadata": {},
          "execution_count": 123
        }
      ]
    },
    {
      "cell_type": "code",
      "source": [
        "# Find Percentage of Null Values \n",
        "\n",
        "Df.isnull().sum()/Df.shape[0]*100"
      ],
      "metadata": {
        "colab": {
          "base_uri": "https://localhost:8080/"
        },
        "id": "bqtFB1MwWUiD",
        "outputId": "273927aa-fa65-48f9-8b5f-8030cb271772"
      },
      "execution_count": 124,
      "outputs": [
        {
          "output_type": "execute_result",
          "data": {
            "text/plain": [
              "show_id          0.000000\n",
              "type             0.000000\n",
              "title            0.000000\n",
              "director        30.679337\n",
              "cast             9.220496\n",
              "country          6.510851\n",
              "date_added       0.128419\n",
              "release_year     0.000000\n",
              "rating           0.089893\n",
              "duration         0.000000\n",
              "listed_in        0.000000\n",
              "description      0.000000\n",
              "dtype: float64"
            ]
          },
          "metadata": {},
          "execution_count": 124
        }
      ]
    },
    {
      "cell_type": "code",
      "source": [
        "# Drop Null Values From Dataset\n",
        "\n",
        "Df.drop(['director'],axis=1,inplace=True)\n",
        " \n",
        "DF=Df.dropna(subset=['cast','country','date_added','rating'],axis=0)"
      ],
      "metadata": {
        "id": "CGssJyNKW7t_"
      },
      "execution_count": 125,
      "outputs": []
    },
    {
      "cell_type": "code",
      "source": [
        "# Rechecking Null values\n",
        "\n",
        "DF.isnull().sum()"
      ],
      "metadata": {
        "colab": {
          "base_uri": "https://localhost:8080/"
        },
        "id": "1xBJwJ1xXvoQ",
        "outputId": "3da799ef-11a2-437f-c574-f9c5018a2413"
      },
      "execution_count": 126,
      "outputs": [
        {
          "output_type": "execute_result",
          "data": {
            "text/plain": [
              "show_id         0\n",
              "type            0\n",
              "title           0\n",
              "cast            0\n",
              "country         0\n",
              "date_added      0\n",
              "release_year    0\n",
              "rating          0\n",
              "duration        0\n",
              "listed_in       0\n",
              "description     0\n",
              "dtype: int64"
            ]
          },
          "metadata": {},
          "execution_count": 126
        }
      ]
    },
    {
      "cell_type": "markdown",
      "source": [
        "Now our Data is ready for next operation."
      ],
      "metadata": {
        "id": "QRMc6pAYYnpX"
      }
    },
    {
      "cell_type": "markdown",
      "source": [
        "# **Exploratory Data Analysis**"
      ],
      "metadata": {
        "id": "HCtMmSGnZF-_"
      }
    },
    {
      "cell_type": "markdown",
      "source": [
        " **Type Of Content In Dataset**"
      ],
      "metadata": {
        "id": "vawAi9A0ZkTg"
      }
    },
    {
      "cell_type": "code",
      "source": [
        "# type of content\n",
        "\n",
        "DF['type'].value_counts().sort_values()"
      ],
      "metadata": {
        "colab": {
          "base_uri": "https://localhost:8080/"
        },
        "id": "ITVhYgRkYub5",
        "outputId": "ec517bd0-674b-4074-d5e7-0d866eebaa5d"
      },
      "execution_count": 127,
      "outputs": [
        {
          "output_type": "execute_result",
          "data": {
            "text/plain": [
              "TV Show    1882\n",
              "Movie      4761\n",
              "Name: type, dtype: int64"
            ]
          },
          "metadata": {},
          "execution_count": 127
        }
      ]
    },
    {
      "cell_type": "code",
      "source": [
        "# Plotting Pie chart for type of content\n",
        "\n",
        "plt.figure(figsize=(12, 8))\n",
        "labels=['TV Show', 'Movie']\n",
        "textprops = {\"fontsize\":15}\n",
        "plt.pie(DF['type'].value_counts().sort_values(),labels=labels,autopct='%1.2f%%',explode=[0.1,0.1],\n",
        "        colors=['red','green'], startangle=180, shadow = True, textprops=textprops)\n",
        "plt.title('Type of Netflix Content',fontsize=24)\n",
        "plt.axis('equal')\n",
        "plt.show()"
      ],
      "metadata": {
        "colab": {
          "base_uri": "https://localhost:8080/",
          "height": 491
        },
        "id": "g39UNLBtaQz4",
        "outputId": "9854b6c9-c94b-457a-f400-12546036c994"
      },
      "execution_count": 128,
      "outputs": [
        {
          "output_type": "display_data",
          "data": {
            "text/plain": [
              "<Figure size 864x576 with 1 Axes>"
            ],
            "image/png": "[encoded data removed]"
          },
          "metadata": {}
        }
      ]
    },
    {
      "cell_type": "markdown",
      "source": [
        "From above analysis we can see that number of movies are more than TV shows."
      ],
      "metadata": {
        "id": "EskE2QNjcYcX"
      }
    },
    {
      "cell_type": "markdown",
      "source": [
        "**CHECK TOP 5 ACTORS**"
      ],
      "metadata": {
        "id": "Dc1W7wQygjsI"
      }
    },
    {
      "cell_type": "code",
      "source": [
        "# Count top ten actors\n",
        "\n",
        "DF['cast_name'] = DF['cast'].apply(lambda x :  x.split(',')) \n",
        "cast_count = []\n",
        "\n",
        "# find number of movies for each actor\n",
        "\n",
        "for i in DF['cast_name']: cast_count += i\n",
        "    \n",
        "cast_dict = dict((i, cast_count.count(i)) for i in cast_count)\n",
        "\n",
        "DF_cast_count = pd.DataFrame(cast_dict.values(),cast_dict.keys()).reset_index().sort_values(0,ascending=False).rename(\n",
        "    columns = {'index' : 'cast_name', 0 : 'count'}).iloc[1:6]\n"
      ],
      "metadata": {
        "id": "hNz9gLdnc1y0"
      },
      "execution_count": 129,
      "outputs": []
    },
    {
      "cell_type": "code",
      "source": [
        "# plotting graph for top ten actors\n",
        "\n",
        "plt.figure(figsize=(12,6))\n",
        "sns.barplot(x='cast_name',y='count',data=DF_cast_count,palette=\"rainbow\")\n",
        "plt.title(\"Top 5 ACTORS on Netflix\",size='12',fontweight=\"bold\")\n",
        "plt.xlabel('Cast Name')\n",
        "plt.xticks(rotation=90)\n",
        "plt.show()"
      ],
      "metadata": {
        "colab": {
          "base_uri": "https://localhost:8080/",
          "height": 497
        },
        "id": "RUwP0N2cf4Lv",
        "outputId": "a8abfe17-5159-41c9-b9b9-eeaf1144a655"
      },
      "execution_count": 130,
      "outputs": [
        {
          "output_type": "display_data",
          "data": {
            "text/plain": [
              "<Figure size 864x432 with 1 Axes>"
            ],
            "image/png": "[encoded data removed]"
          },
          "metadata": {
            "needs_background": "light"
          }
        }
      ]
    },
    {
      "cell_type": "markdown",
      "source": [
        "**CHECK TOP 10 GENRES**"
      ],
      "metadata": {
        "id": "cZccfIYzjHp_"
      }
    },
    {
      "cell_type": "code",
      "source": [
        "# Count Top 10 genres \n",
        "\n",
        "DF['listed_in'] = DF['listed_in'].apply(lambda x :  x.split(',')) \n",
        "genre_count = []\n",
        "\n",
        "# Find number of movies for each genres \n",
        "\n",
        "for i in DF['listed_in']: \n",
        "  genre_count += i\n",
        "    \n",
        "genre_dict = dict((i, genre_count.count(i)) for i in genre_count)\n",
        "\n",
        "DF_genre_count = pd.DataFrame(genre_dict.values(),genre_dict.keys()).reset_index().sort_values(0,ascending=False).rename(\n",
        "    columns = {'index' : 'genre', 0 : 'count'}).iloc[1:11]"
      ],
      "metadata": {
        "id": "-rk55BIHg0pf"
      },
      "execution_count": 131,
      "outputs": []
    },
    {
      "cell_type": "code",
      "source": [
        "# Plotting graph for top ten genres\n",
        "\n",
        "plt.figure(figsize=(12,6))\n",
        "sns.pointplot(x='genre',y='count',data=DF_genre_count,palette=\"Dark2_r\")\n",
        "plt.title(\"Top 10 GENRES on Netflix\",size='12',fontweight=\"bold\")\n",
        "plt.xticks(rotation=90)\n",
        "plt.show()"
      ],
      "metadata": {
        "colab": {
          "base_uri": "https://localhost:8080/",
          "height": 542
        },
        "id": "5k1EhDdFkJlg",
        "outputId": "eba803a8-8494-4b42-a765-e9c85735d14b"
      },
      "execution_count": 132,
      "outputs": [
        {
          "output_type": "display_data",
          "data": {
            "text/plain": [
              "<Figure size 864x432 with 1 Axes>"
            ],
            "image/png": "[encoded data removed]"
          },
          "metadata": {
            "needs_background": "light"
          }
        }
      ]
    },
    {
      "cell_type": "code",
      "source": [
        "# Find Movies and TV show in Dataframe\n",
        "\n",
        "MOVIES_DF= DF[DF['type']=='Movie']\n",
        "TVSHOWS_DF= DF[DF['type']=='TV Show']\n",
        "MOVIES_DF.shape"
      ],
      "metadata": {
        "colab": {
          "base_uri": "https://localhost:8080/"
        },
        "id": "7ZSJPcwXlxe6",
        "outputId": "0e9cc569-49b8-4052-8411-cc4ba95270e6"
      },
      "execution_count": 133,
      "outputs": [
        {
          "output_type": "execute_result",
          "data": {
            "text/plain": [
              "(4761, 12)"
            ]
          },
          "metadata": {},
          "execution_count": 133
        }
      ]
    },
    {
      "cell_type": "markdown",
      "source": [
        "**TOP MOVIES BASED ON RATINGS**"
      ],
      "metadata": {
        "id": "00SJUZeFR2Vz"
      }
    },
    {
      "cell_type": "code",
      "source": [
        "# find top movies based on ratings\n",
        "\n",
        "Movie_Ratings = MOVIES_DF.groupby(['rating'])['show_id'].count().reset_index(name='count').sort_values(by='count',ascending=False)\n",
        "\n",
        "fig, ax = plt.subplots(figsize=(12,6))  \n",
        "sns.barplot(x='rating',y='count',data=Movie_Ratings)\n",
        "plt.title('Top Movie Based On Rating System',size='18')\n",
        "plt.show()"
      ],
      "metadata": {
        "colab": {
          "base_uri": "https://localhost:8080/",
          "height": 417
        },
        "id": "JgTxZg27RCKo",
        "outputId": "28c9d032-d94a-416c-9cd0-532e93febe5f"
      },
      "execution_count": 134,
      "outputs": [
        {
          "output_type": "display_data",
          "data": {
            "text/plain": [
              "<Figure size 864x432 with 1 Axes>"
            ],
            "image/png": "[encoded data removed]"
          },
          "metadata": {
            "needs_background": "light"
          }
        }
      ]
    },
    {
      "cell_type": "markdown",
      "source": [
        "**TOP SHOWS BASED ON RATINGS**"
      ],
      "metadata": {
        "id": "bGoYkpSXStV2"
      }
    },
    {
      "cell_type": "code",
      "source": [
        "# Find top shows based on ratings\n",
        "\n",
        "TV_Ratings = TVSHOWS_DF.groupby(['rating'])['show_id'].count().reset_index(name='count').sort_values(by='count',ascending=False)\n",
        "\n",
        "fig, ax = plt.subplots(figsize=(12,6))  \n",
        "sns.barplot(x='rating',y='count',data=TV_Ratings)\n",
        "plt.title('Top TV Shows Based On Rating System',size='18')\n",
        "plt.show()"
      ],
      "metadata": {
        "colab": {
          "base_uri": "https://localhost:8080/",
          "height": 417
        },
        "id": "LJWovc1GSzH_",
        "outputId": "477a3527-e90d-4fb3-f1a8-830cec5ae90b"
      },
      "execution_count": 135,
      "outputs": [
        {
          "output_type": "display_data",
          "data": {
            "text/plain": [
              "<Figure size 864x432 with 1 Axes>"
            ],
            "image/png": "[encoded data removed]"
          },
          "metadata": {
            "needs_background": "light"
          }
        }
      ]
    },
    {
      "cell_type": "markdown",
      "source": [
        "**TOP 10 COUNTRIES**"
      ],
      "metadata": {
        "id": "M5IiYz2PWO-_"
      }
    },
    {
      "cell_type": "code",
      "source": [
        "# Find top country\n",
        "\n",
        "DF['Main_Country']= DF['country'].apply(lambda x: x.split(\",\")[0])\n",
        "\n",
        "plt.figure(figsize=(12,8))\n",
        "ax=sns.countplot(x='Main_Country',lw=2,data=DF,\n",
        "              order=DF['Main_Country'].value_counts().index[0:10])\n",
        "\n",
        "plt.title('Top 10 coutries',fontweight=\"bold\")\n",
        "plt.xlabel('Counts')\n",
        "plt.ylabel('Country Name')"
      ],
      "metadata": {
        "colab": {
          "base_uri": "https://localhost:8080/",
          "height": 539
        },
        "id": "Ny0dRlOLUktX",
        "outputId": "df784a87-32a9-4ff6-f301-b23a09fa7fa5"
      },
      "execution_count": 136,
      "outputs": [
        {
          "output_type": "execute_result",
          "data": {
            "text/plain": [
              "Text(0, 0.5, 'Country Name')"
            ]
          },
          "metadata": {},
          "execution_count": 136
        },
        {
          "output_type": "display_data",
          "data": {
            "text/plain": [
              "<Figure size 864x576 with 1 Axes>"
            ],
            "image/png": "[encoded data removed]"
          },
          "metadata": {
            "needs_background": "light"
          }
        }
      ]
    },
    {
      "cell_type": "markdown",
      "source": [
        "Here we can see that The United States has the most number of content on Netflix as compare to other countries."
      ],
      "metadata": {
        "id": "dHzaN_G3ZQTg"
      }
    },
    {
      "cell_type": "code",
      "source": [
        "# find Number of TV Shows and Movies content in top countries.\n",
        "\n",
        "sns.set()\n",
        "plt.figure(figsize=(12,6))\n",
        "ax=sns.countplot(x=\"Main_Country\",data= DF,hue= \"type\",order = DF['Main_Country'].value_counts().index[0:10])\n",
        "plt.xticks(rotation=90)\n",
        "plt.xlabel('Country')\n",
        "plt.title(\"Number of TV Shows and Movies in top countries\",fontweight=\"bold\")\n",
        "plt.show()"
      ],
      "metadata": {
        "colab": {
          "base_uri": "https://localhost:8080/",
          "height": 492
        },
        "id": "Feml7T0SXuof",
        "outputId": "e48ce182-69d1-4086-8ee2-85cd6fede30f"
      },
      "execution_count": 137,
      "outputs": [
        {
          "output_type": "display_data",
          "data": {
            "text/plain": [
              "<Figure size 864x432 with 1 Axes>"
            ],
            "image/png": "[encoded data removed]"
          },
          "metadata": {}
        }
      ]
    },
    {
      "cell_type": "markdown",
      "source": [
        "Here we can see that in top countries most number of people preferred movies as compare to TV shows."
      ],
      "metadata": {
        "id": "AQqCLl-H_WCa"
      }
    },
    {
      "cell_type": "markdown",
      "source": [
        "**Rating movies and TV shows based on age group**"
      ],
      "metadata": {
        "id": "sOjayEzzDY2W"
      }
    },
    {
      "cell_type": "code",
      "source": [
        "# Dataset from each type of content by filtering\n",
        "DF_TV = DF[DF[\"type\"] == \"TV Show\"]\n",
        "DF_Movies = DF[DF[\"type\"] == \"Movie\"]"
      ],
      "metadata": {
        "id": "0zILOEQ2LAHc"
      },
      "execution_count": 138,
      "outputs": []
    },
    {
      "cell_type": "code",
      "source": [
        "# Find the Ratings into grouped categories\n",
        "Ratings_ages = {\n",
        "    'TV-PG': 'Older Kids',\n",
        "    'TV-MA': 'Adults',\n",
        "    'TV-Y7-FV': 'Older Kids',\n",
        "    'TV-Y7': 'Older Kids',\n",
        "    'TV-14': 'Teens',\n",
        "    'R': 'Adults',\n",
        "    'TV-Y': 'Kids',\n",
        "    'NR': 'Adults',\n",
        "    'PG-13': 'Teens',\n",
        "    'TV-G': 'Kids',\n",
        "    'PG': 'Older Kids',\n",
        "    'G': 'Kids',\n",
        "    'UR': 'Adults',\n",
        "    'NC-17': 'Adults'\n",
        "}\n",
        "\n",
        "DF['Target_ages'] = DF['rating'].replace(Ratings_ages)\n",
        "DF['Target_ages'].unique()"
      ],
      "metadata": {
        "colab": {
          "base_uri": "https://localhost:8080/"
        },
        "id": "vP5ht8tZal2N",
        "outputId": "012f1d92-2e69-4332-f1f4-4bdcbd93af24"
      },
      "execution_count": 139,
      "outputs": [
        {
          "output_type": "execute_result",
          "data": {
            "text/plain": [
              "array(['Adults', 'Teens', 'Older Kids', 'Kids'], dtype=object)"
            ]
          },
          "metadata": {},
          "execution_count": 139
        }
      ]
    },
    {
      "cell_type": "markdown",
      "source": [
        "**Movies Rating Based On Age Group**"
      ],
      "metadata": {
        "id": "2E2qb_mIIn9d"
      }
    },
    {
      "cell_type": "code",
      "source": [
        "# Check ages\n",
        "DF['type'] = pd.Categorical(DF['type'])\n",
        "DF['Target_ages'] = pd.Categorical(DF['Target_ages'], categories=['Kids', 'Older Kids', 'Teens', 'Adults'])"
      ],
      "metadata": {
        "id": "Lei3xKmGGMC2"
      },
      "execution_count": 140,
      "outputs": []
    },
    {
      "cell_type": "code",
      "source": [
        "# Plotting movies ratings based on  Age Groups\n",
        "\n",
        "plt.figure(figsize=(16,8))\n",
        "plt.title('Ratings of Movies  Based On Age Groups')\n",
        "sns.countplot(x=DF['rating'],hue=DF['Target_ages'],data=DF,order=DF['rating'].value_counts().index,palette=\"Accent_r\")"
      ],
      "metadata": {
        "colab": {
          "base_uri": "https://localhost:8080/",
          "height": 539
        },
        "id": "zzfbmcGKGdss",
        "outputId": "9fe5ca2e-303d-436d-ef84-a371848ae2c6"
      },
      "execution_count": 141,
      "outputs": [
        {
          "output_type": "execute_result",
          "data": {
            "text/plain": [
              "<matplotlib.axes._subplots.AxesSubplot at 0x7f1dbe8a6310>"
            ]
          },
          "metadata": {},
          "execution_count": 141
        },
        {
          "output_type": "display_data",
          "data": {
            "text/plain": [
              "<Figure size 1152x576 with 1 Axes>"
            ],
            "image/png": "[encoded data removed]"
          },
          "metadata": {}
        }
      ]
    },
    {
      "cell_type": "markdown",
      "source": [
        "Based on ratings we can see that from different type of age group most number of movies followed by adults."
      ],
      "metadata": {
        "id": "hRvjIEw8-xBv"
      }
    },
    {
      "cell_type": "markdown",
      "source": [
        "**TV Shows Rating Based On Age Group**"
      ],
      "metadata": {
        "id": "Mj-Mm-BOJIdb"
      }
    },
    {
      "cell_type": "code",
      "source": [
        "# Plotting TV SHOWS ratings based on  Age Groups\n",
        "\n",
        "plt.figure(figsize=(16,8))\n",
        "plt.title('Ratings of TV Shows Based On Age Groups')\n",
        "sns.countplot(x=DF['rating'],hue=DF['Target_ages'],data=DF,order=DF['rating'].value_counts().index,palette=\"afmhot_r\")"
      ],
      "metadata": {
        "colab": {
          "base_uri": "https://localhost:8080/",
          "height": 539
        },
        "id": "eD-s54LkJYgm",
        "outputId": "0c10dfb7-4262-4129-b270-8d27d76750fb"
      },
      "execution_count": 142,
      "outputs": [
        {
          "output_type": "execute_result",
          "data": {
            "text/plain": [
              "<matplotlib.axes._subplots.AxesSubplot at 0x7f1dbb96dbd0>"
            ]
          },
          "metadata": {},
          "execution_count": 142
        },
        {
          "output_type": "display_data",
          "data": {
            "text/plain": [
              "<Figure size 1152x576 with 1 Axes>"
            ],
            "image/png": "[encoded data removed]"
          },
          "metadata": {}
        }
      ]
    },
    {
      "cell_type": "markdown",
      "source": [
        "Based on ratings we can see that from different type of age group most number of TV shows followed by adults."
      ],
      "metadata": {
        "id": "1hqQmQ55_Jqe"
      }
    },
    {
      "cell_type": "markdown",
      "source": [
        "**YEAR-MONTH WISE RELEASE**"
      ],
      "metadata": {
        "id": "mN9J1xuLNgFP"
      }
    },
    {
      "cell_type": "code",
      "source": [
        "#feature engineering\n",
        "# find movie release per year in last 10 year\n",
        "\n",
        "\n",
        "plt.figure(figsize=(12,8))\n",
        "plt.title('Analysis On Release Year Of Movies in 10 years', fontsize=12, fontweight='bold')\n",
        "sns.countplot(y=MOVIES_DF['release_year'],data=MOVIES_DF,order=MOVIES_DF['release_year'].value_counts().index[0:10],palette=\"CMRmap_r\")\n",
        "\n",
        "\n",
        "\n"
      ],
      "metadata": {
        "colab": {
          "base_uri": "https://localhost:8080/",
          "height": 539
        },
        "id": "5qivJLWvN9z4",
        "outputId": "2dfb9620-8996-4043-bb27-14bec20570b8"
      },
      "execution_count": 143,
      "outputs": [
        {
          "output_type": "execute_result",
          "data": {
            "text/plain": [
              "<matplotlib.axes._subplots.AxesSubplot at 0x7f1dbb940650>"
            ]
          },
          "metadata": {},
          "execution_count": 143
        },
        {
          "output_type": "display_data",
          "data": {
            "text/plain": [
              "<Figure size 864x576 with 1 Axes>"
            ],
            "image/png": "[encoded data removed]"
          },
          "metadata": {}
        }
      ]
    },
    {
      "cell_type": "markdown",
      "source": [
        "From above analysis we can see that more number of movie release in 2017."
      ],
      "metadata": {
        "id": "uXdkS1cARLbK"
      }
    },
    {
      "cell_type": "code",
      "source": [
        "# TV SHOWS released per year in last 10 year.\n",
        "\n",
        "plt.figure(figsize=(12,8))\n",
        "plt.title('Analysis On Release Year Of TV Shows in 10 years', fontsize=12, fontweight='bold')\n",
        "sns.countplot(y=TVSHOWS_DF['release_year'],data=TVSHOWS_DF,order=TVSHOWS_DF['release_year'].value_counts().index[0:10],palette=\"Reds_r\")"
      ],
      "metadata": {
        "colab": {
          "base_uri": "https://localhost:8080/",
          "height": 539
        },
        "id": "UHAzJ36XRYjS",
        "outputId": "a2718b3e-6c12-4764-f2b8-de7d5f06840c"
      },
      "execution_count": 144,
      "outputs": [
        {
          "output_type": "execute_result",
          "data": {
            "text/plain": [
              "<matplotlib.axes._subplots.AxesSubplot at 0x7f1dbb83e6d0>"
            ]
          },
          "metadata": {},
          "execution_count": 144
        },
        {
          "output_type": "display_data",
          "data": {
            "text/plain": [
              "<Figure size 864x576 with 1 Axes>"
            ],
            "image/png": "[encoded data removed]"
          },
          "metadata": {}
        }
      ]
    },
    {
      "cell_type": "markdown",
      "source": [
        "From above analysis we can see that most number of TV shows Release in 2020."
      ],
      "metadata": {
        "id": "hE9XgBx2-gxH"
      }
    },
    {
      "cell_type": "code",
      "source": [
        "# find Distribution of Movie Durations\n",
        "\n",
        "plt.figure(figsize=(12,8))\n",
        "sns.distplot(MOVIES_DF['duration'].str.extract('(\\d+)'),kde=False, color=['brown'])\n",
        "plt.title('Distplot of distribution for Movies',fontweight=\"bold\")\n",
        "plt.show()"
      ],
      "metadata": {
        "colab": {
          "base_uri": "https://localhost:8080/",
          "height": 505
        },
        "id": "G8QmaUqsRIxL",
        "outputId": "12d1d0bc-f4c9-4e0b-de2c-a8a99956d1ac"
      },
      "execution_count": 145,
      "outputs": [
        {
          "output_type": "display_data",
          "data": {
            "text/plain": [
              "<Figure size 864x576 with 1 Axes>"
            ],
            "image/png": "[encoded data removed]"
          },
          "metadata": {}
        }
      ]
    },
    {
      "cell_type": "code",
      "source": [
        "# Find the distribution of TV SHOWS\n",
        "\n",
        "plt.figure(figsize=(18,10))\n",
        "plt.title(\"Displot of TV Shows duration\",fontweight='bold')\n",
        "sns.countplot(x=TVSHOWS_DF['duration'],data=TVSHOWS_DF,order = TVSHOWS_DF['duration'].value_counts().index,palette=\"Reds_r\")"
      ],
      "metadata": {
        "colab": {
          "base_uri": "https://localhost:8080/",
          "height": 647
        },
        "id": "UupEZjicUrz7",
        "outputId": "fb16b761-6543-4f3b-a212-45d4f6d2c904"
      },
      "execution_count": 146,
      "outputs": [
        {
          "output_type": "execute_result",
          "data": {
            "text/plain": [
              "<matplotlib.axes._subplots.AxesSubplot at 0x7f1dbb6a3810>"
            ]
          },
          "metadata": {},
          "execution_count": 146
        },
        {
          "output_type": "display_data",
          "data": {
            "text/plain": [
              "<Figure size 1296x720 with 1 Axes>"
            ],
            "image/png": "[encoded data removed]"
          },
          "metadata": {}
        }
      ]
    },
    {
      "cell_type": "code",
      "source": [
        "# Analysis Netflix cast column\n",
        " \n",
        "Netflix_CAST =DF[DF['cast'] != '']\n",
        "Netflix_CAST[\"cast\"].value_counts()"
      ],
      "metadata": {
        "id": "cGlkm3iNYZ2X",
        "colab": {
          "base_uri": "https://localhost:8080/"
        },
        "outputId": "bba57f5d-f48d-4d30-f418-46844275c5b6"
      },
      "execution_count": 147,
      "outputs": [
        {
          "output_type": "execute_result",
          "data": {
            "text/plain": [
              "David Attenborough                                                                                                                                           18\n",
              "Samuel West                                                                                                                                                  10\n",
              "Jeff Dunham                                                                                                                                                   7\n",
              "Kevin Hart                                                                                                                                                    6\n",
              "Craig Sechler                                                                                                                                                 6\n",
              "                                                                                                                                                             ..\n",
              "Hugh Dancy, Mads Mikkelsen, Caroline Dhavernas, Hettienne Park, Laurence Fishburne, Scott Thompson, Aaron Abrams, Gillian Anderson, Lara Jean Chorostecki     1\n",
              "Henry Paulson, Wendy Paulson                                                                                                                                  1\n",
              "Al Pacino, Karl Urban, Brittany Snow, Joe Anderson, Sarah Shahi, Sloane Warren, Chelle Ramos, Steve Coulter, Michael Rose                                     1\n",
              "Jeff Garlin, Natasha Lyonne, Amy Sedaris, Steven Weber, Christine Woods, Eddie Pepitone, Timm Sharp, Brad Morris, Leah Remini, Ava Acres                      1\n",
              "Adriano Zumbo, Rachel Khoo                                                                                                                                    1\n",
              "Name: cast, Length: 6464, dtype: int64"
            ]
          },
          "metadata": {},
          "execution_count": 147
        }
      ]
    },
    {
      "cell_type": "code",
      "source": [
        ""
      ],
      "metadata": {
        "id": "Ipb1gvo1pAti"
      },
      "execution_count": 147,
      "outputs": []
    },
    {
      "cell_type": "markdown",
      "source": [
        "# HYPOTHESIS TESTING"
      ],
      "metadata": {
        "id": "mBodd9uzpsU8"
      }
    },
    {
      "cell_type": "code",
      "source": [
        "# Replacing the values \n",
        "\n",
        "Df[\"cast\"] = Df[\"cast\"].fillna(\"\")\n",
        "Df[\"country\"] = Df[\"country\"].fillna(\"\")\n",
        "Df[\"date_added\"] = Df[\"date_added\"].fillna(\"\")\n",
        "Df[\"rating\"] = Df[\"rating\"].fillna(\"\")\n"
      ],
      "metadata": {
        "id": "nAVEJ9tjp2Fy"
      },
      "execution_count": 148,
      "outputs": []
    },
    {
      "cell_type": "code",
      "source": [
        "# Change columns from type str to lists\n",
        "\n",
        "Df.cast = Df.cast.str.split(',').tolist()\n",
        "Df.country = Df.country.str.split(',').tolist()\n",
        "Df.listed_in = Df.listed_in.str.split(',').tolist()"
      ],
      "metadata": {
        "id": "KqdsPfSzsGqx"
      },
      "execution_count": 149,
      "outputs": []
    },
    {
      "cell_type": "code",
      "source": [
        "#  Find Array of all cast members, countries, ratings, and genres\n",
        "\n",
        "All_cast = Df['cast'].explode().unique()\n",
        "All_countries = Df['country'].explode().unique()\n",
        "All_ratings = Df['rating'].unique()\n",
        "All_genres = Df['listed_in'].explode().unique()\n",
        "\n",
        "len(All_cast), len(All_countries), len(All_ratings),len(All_genres)"
      ],
      "metadata": {
        "colab": {
          "base_uri": "https://localhost:8080/"
        },
        "id": "rmC3Qeidsb21",
        "outputId": "8a44e223-51bd-4332-e583-cd11347cd0b3"
      },
      "execution_count": 150,
      "outputs": [
        {
          "output_type": "execute_result",
          "data": {
            "text/plain": [
              "(35373, 188, 15, 73)"
            ]
          },
          "metadata": {},
          "execution_count": 150
        }
      ]
    },
    {
      "cell_type": "code",
      "source": [
        "# Data Wrangling\n",
        "\n",
        "# import library\n",
        "import re\n",
        "\n",
        "#Find required features and add them\n",
        "Df['combined features'] = Df['listed_in'].astype(str) + \" \" + Df['description'].astype(str) + \" \" + Df['type'].astype(str) + \" \"  + Df['rating'].astype(str)\n",
        "\n",
        "\n",
        "Df['combined features'] = Df['combined features'].apply(lambda x: re.sub('https?://[A-Za-z0-9./]+',' ', str(x)))\n",
        "Df['combined features'] = Df['combined features'].apply(lambda x: re.sub('[^a-zA-Z]',' ', str(x)))\n",
        "Df['combined features'] = Df['combined features'].apply(lambda x: x.lower())\n",
        "\n",
        "# Remove stopwords\n",
        "STOP = set(stopwords.words('english'))\n",
        "def remove_stopwords(text):\n",
        "    TEXT = [word for word in text.split() if word.lower() not in STOP]\n",
        "    return (TEXT)\n",
        "    Df['combined features'] = Df['combined features'].apply(lambda x: remove_stopwords(x))\n",
        "\n",
        "    # Remove short word also\n",
        "    Df['combined features'] = Df['combined features'].apply(lambda x: (w for w in x if len(w)>2))\n",
        "\n",
        "    # stemming\n",
        "    #import libraries\n",
        "from nltk.stem.porter import *\n",
        "STEMMER = PorterStemmer()\n",
        "def stemming(text):    \n",
        "    Text = [STEMMER.stem(word) for word in text]\n",
        "    return (\" \".join(text))\n",
        "    Df['combined features'] = Df['combined features'].apply(lambda x: stemming(x))\n",
        "\n",
        "    from sklearn.feature_extraction.text import TfidfVectorizer\n",
        "vectorizer = TfidfVectorizer(sublinear_tf= True, min_df=10, norm='l2', ngram_range=(1, 2), stop_words='english')\n",
        "x = vectorizer.fit_transform(Df[\"combined features\"])\n",
        "\n",
        "pd.DataFrame(x.toarray(), columns=vectorizer.get_feature_names()).head()\n",
        "    \n",
        "    \n",
        "    "
      ],
      "metadata": {
        "colab": {
          "base_uri": "https://localhost:8080/",
          "height": 317
        },
        "id": "hpxP6fz62mX2",
        "outputId": "7619c9ce-519f-4f3c-b60b-293a35e46b76"
      },
      "execution_count": 151,
      "outputs": [
        {
          "output_type": "execute_result",
          "data": {
            "text/plain": [
              "   abandoned  abducted  abilities  ability  aboard  abuse  abusive  academy  \\\n",
              "0        0.0       0.0        0.0      0.0     0.0    0.0      0.0      0.0   \n",
              "1        0.0       0.0        0.0      0.0     0.0    0.0      0.0      0.0   \n",
              "2        0.0       0.0        0.0      0.0     0.0    0.0      0.0      0.0   \n",
              "3        0.0       0.0        0.0      0.0     0.0    0.0      0.0      0.0   \n",
              "4        0.0       0.0        0.0      0.0     0.0    0.0      0.0      0.0   \n",
              "\n",
              "   accepts  access  ...  young girl  young man  young men  young son  \\\n",
              "0      0.0     0.0  ...         0.0        0.0        0.0        0.0   \n",
              "1      0.0     0.0  ...         0.0        0.0        0.0        0.0   \n",
              "2      0.0     0.0  ...         0.0        0.0        0.0        0.0   \n",
              "3      0.0     0.0  ...         0.0        0.0        0.0        0.0   \n",
              "4      0.0     0.0  ...         0.0        0.0        0.0        0.0   \n",
              "\n",
              "   young woman  young women  younger  youth  zany  zombie  \n",
              "0          0.0          0.0      0.0    0.0   0.0     0.0  \n",
              "1          0.0          0.0      0.0    0.0   0.0     0.0  \n",
              "2          0.0          0.0      0.0    0.0   0.0     0.0  \n",
              "3          0.0          0.0      0.0    0.0   0.0     0.0  \n",
              "4          0.0          0.0      0.0    0.0   0.0     0.0  \n",
              "\n",
              "[5 rows x 2596 columns]"
            ],
            "text/html": [
              "\n",
              "  <div id=\"df-1e473c6d-9eef-4503-a075-ca1c00493e20\">\n",
              "    <div class=\"colab-df-container\">\n",
              "      <div>\n",
              "<style scoped>\n",
              "    .dataframe tbody tr th:only-of-type {\n",
              "        vertical-align: middle;\n",
              "    }\n",
              "\n",
              "    .dataframe tbody tr th {\n",
              "        vertical-align: top;\n",
              "    }\n",
              "\n",
              "    .dataframe thead th {\n",
              "        text-align: right;\n",
              "    }\n",
              "</style>\n",
              "<table border=\"1\" class=\"dataframe\">\n",
              "  <thead>\n",
              "    <tr style=\"text-align: right;\">\n",
              "      <th></th>\n",
              "      <th>abandoned</th>\n",
              "      <th>abducted</th>\n",
              "      <th>abilities</th>\n",
              "      <th>ability</th>\n",
              "      <th>aboard</th>\n",
              "      <th>abuse</th>\n",
              "      <th>abusive</th>\n",
              "      <th>academy</th>\n",
              "      <th>accepts</th>\n",
              "      <th>access</th>\n",
              "      <th>...</th>\n",
              "      <th>young girl</th>\n",
              "      <th>young man</th>\n",
              "      <th>young men</th>\n",
              "      <th>young son</th>\n",
              "      <th>young woman</th>\n",
              "      <th>young women</th>\n",
              "      <th>younger</th>\n",
              "      <th>youth</th>\n",
              "      <th>zany</th>\n",
              "      <th>zombie</th>\n",
              "    </tr>\n",
              "  </thead>\n",
              "  <tbody>\n",
              "    <tr>\n",
              "      <th>0</th>\n",
              "      <td>0.0</td>\n",
              "      <td>0.0</td>\n",
              "      <td>0.0</td>\n",
              "      <td>0.0</td>\n",
              "      <td>0.0</td>\n",
              "      <td>0.0</td>\n",
              "      <td>0.0</td>\n",
              "      <td>0.0</td>\n",
              "      <td>0.0</td>\n",
              "      <td>0.0</td>\n",
              "      <td>...</td>\n",
              "      <td>0.0</td>\n",
              "      <td>0.0</td>\n",
              "      <td>0.0</td>\n",
              "      <td>0.0</td>\n",
              "      <td>0.0</td>\n",
              "      <td>0.0</td>\n",
              "      <td>0.0</td>\n",
              "      <td>0.0</td>\n",
              "      <td>0.0</td>\n",
              "      <td>0.0</td>\n",
              "    </tr>\n",
              "    <tr>\n",
              "      <th>1</th>\n",
              "      <td>0.0</td>\n",
              "      <td>0.0</td>\n",
              "      <td>0.0</td>\n",
              "      <td>0.0</td>\n",
              "      <td>0.0</td>\n",
              "      <td>0.0</td>\n",
              "      <td>0.0</td>\n",
              "      <td>0.0</td>\n",
              "      <td>0.0</td>\n",
              "      <td>0.0</td>\n",
              "      <td>...</td>\n",
              "      <td>0.0</td>\n",
              "      <td>0.0</td>\n",
              "      <td>0.0</td>\n",
              "      <td>0.0</td>\n",
              "      <td>0.0</td>\n",
              "      <td>0.0</td>\n",
              "      <td>0.0</td>\n",
              "      <td>0.0</td>\n",
              "      <td>0.0</td>\n",
              "      <td>0.0</td>\n",
              "    </tr>\n",
              "    <tr>\n",
              "      <th>2</th>\n",
              "      <td>0.0</td>\n",
              "      <td>0.0</td>\n",
              "      <td>0.0</td>\n",
              "      <td>0.0</td>\n",
              "      <td>0.0</td>\n",
              "      <td>0.0</td>\n",
              "      <td>0.0</td>\n",
              "      <td>0.0</td>\n",
              "      <td>0.0</td>\n",
              "      <td>0.0</td>\n",
              "      <td>...</td>\n",
              "      <td>0.0</td>\n",
              "      <td>0.0</td>\n",
              "      <td>0.0</td>\n",
              "      <td>0.0</td>\n",
              "      <td>0.0</td>\n",
              "      <td>0.0</td>\n",
              "      <td>0.0</td>\n",
              "      <td>0.0</td>\n",
              "      <td>0.0</td>\n",
              "      <td>0.0</td>\n",
              "    </tr>\n",
              "    <tr>\n",
              "      <th>3</th>\n",
              "      <td>0.0</td>\n",
              "      <td>0.0</td>\n",
              "      <td>0.0</td>\n",
              "      <td>0.0</td>\n",
              "      <td>0.0</td>\n",
              "      <td>0.0</td>\n",
              "      <td>0.0</td>\n",
              "      <td>0.0</td>\n",
              "      <td>0.0</td>\n",
              "      <td>0.0</td>\n",
              "      <td>...</td>\n",
              "      <td>0.0</td>\n",
              "      <td>0.0</td>\n",
              "      <td>0.0</td>\n",
              "      <td>0.0</td>\n",
              "      <td>0.0</td>\n",
              "      <td>0.0</td>\n",
              "      <td>0.0</td>\n",
              "      <td>0.0</td>\n",
              "      <td>0.0</td>\n",
              "      <td>0.0</td>\n",
              "    </tr>\n",
              "    <tr>\n",
              "      <th>4</th>\n",
              "      <td>0.0</td>\n",
              "      <td>0.0</td>\n",
              "      <td>0.0</td>\n",
              "      <td>0.0</td>\n",
              "      <td>0.0</td>\n",
              "      <td>0.0</td>\n",
              "      <td>0.0</td>\n",
              "      <td>0.0</td>\n",
              "      <td>0.0</td>\n",
              "      <td>0.0</td>\n",
              "      <td>...</td>\n",
              "      <td>0.0</td>\n",
              "      <td>0.0</td>\n",
              "      <td>0.0</td>\n",
              "      <td>0.0</td>\n",
              "      <td>0.0</td>\n",
              "      <td>0.0</td>\n",
              "      <td>0.0</td>\n",
              "      <td>0.0</td>\n",
              "      <td>0.0</td>\n",
              "      <td>0.0</td>\n",
              "    </tr>\n",
              "  </tbody>\n",
              "</table>\n",
              "<p>5 rows × 2596 columns</p>\n",
              "</div>\n",
              "      <button class=\"colab-df-convert\" onclick=\"convertToInteractive('df-1e473c6d-9eef-4503-a075-ca1c00493e20')\"\n",
              "              title=\"Convert this dataframe to an interactive table.\"\n",
              "              style=\"display:none;\">\n",
              "        \n",
              "  <svg xmlns=\"http://www.w3.org/2000/svg\" height=\"24px\"viewBox=\"0 0 24 24\"\n",
              "       width=\"24px\">\n",
              "    <path d=\"M0 0h24v24H0V0z\" fill=\"none\"/>\n",
              "    <path d=\"M18.56 5.44l.94 2.06.94-2.06 2.06-.94-2.06-.94-.94-2.06-.94 2.06-2.06.94zm-11 1L8.5 8.5l.94-2.06 2.06-.94-2.06-.94L8.5 2.5l-.94 2.06-2.06.94zm10 10l.94 2.06.94-2.06 2.06-.94-2.06-.94-.94-2.06-.94 2.06-2.06.94z\"/><path d=\"M17.41 7.96l-1.37-1.37c-.4-.4-.92-.59-1.43-.59-.52 0-1.04.2-1.43.59L10.3 9.45l-7.72 7.72c-.78.78-.78 2.05 0 2.83L4 21.41c.39.39.9.59 1.41.59.51 0 1.02-.2 1.41-.59l7.78-7.78 2.81-2.81c.8-.78.8-2.07 0-2.86zM5.41 20L4 18.59l7.72-7.72 1.47 1.35L5.41 20z\"/>\n",
              "  </svg>\n",
              "      </button>\n",
              "      \n",
              "  <style>\n",
              "    .colab-df-container {\n",
              "      display:flex;\n",
              "      flex-wrap:wrap;\n",
              "      gap: 12px;\n",
              "    }\n",
              "\n",
              "    .colab-df-convert {\n",
              "      background-color: #E8F0FE;\n",
              "      border: none;\n",
              "      border-radius: 50%;\n",
              "      cursor: pointer;\n",
              "      display: none;\n",
              "      fill: #1967D2;\n",
              "      height: 32px;\n",
              "      padding: 0 0 0 0;\n",
              "      width: 32px;\n",
              "    }\n",
              "\n",
              "    .colab-df-convert:hover {\n",
              "      background-color: #E2EBFA;\n",
              "      box-shadow: 0px 1px 2px rgba(60, 64, 67, 0.3), 0px 1px 3px 1px rgba(60, 64, 67, 0.15);\n",
              "      fill: #174EA6;\n",
              "    }\n",
              "\n",
              "    [theme=dark] .colab-df-convert {\n",
              "      background-color: #3B4455;\n",
              "      fill: #D2E3FC;\n",
              "    }\n",
              "\n",
              "    [theme=dark] .colab-df-convert:hover {\n",
              "      background-color: #434B5C;\n",
              "      box-shadow: 0px 1px 3px 1px rgba(0, 0, 0, 0.15);\n",
              "      filter: drop-shadow(0px 1px 2px rgba(0, 0, 0, 0.3));\n",
              "      fill: #FFFFFF;\n",
              "    }\n",
              "  </style>\n",
              "\n",
              "      <script>\n",
              "        const buttonEl =\n",
              "          document.querySelector('#df-1e473c6d-9eef-4503-a075-ca1c00493e20 button.colab-df-convert');\n",
              "        buttonEl.style.display =\n",
              "          google.colab.kernel.accessAllowed ? 'block' : 'none';\n",
              "\n",
              "        async function convertToInteractive(key) {\n",
              "          const element = document.querySelector('#df-1e473c6d-9eef-4503-a075-ca1c00493e20');\n",
              "          const dataTable =\n",
              "            await google.colab.kernel.invokeFunction('convertToInteractive',\n",
              "                                                     [key], {});\n",
              "          if (!dataTable) return;\n",
              "\n",
              "          const docLinkHtml = 'Like what you see? Visit the ' +\n",
              "            '<a target=\"_blank\" href=https://colab.research.google.com/notebooks/data_table.ipynb>data table notebook</a>'\n",
              "            + ' to learn more about interactive tables.';\n",
              "          element.innerHTML = '';\n",
              "          dataTable['output_type'] = 'display_data';\n",
              "          await google.colab.output.renderOutput(dataTable, element);\n",
              "          const docLink = document.createElement('div');\n",
              "          docLink.innerHTML = docLinkHtml;\n",
              "          element.appendChild(docLink);\n",
              "        }\n",
              "      </script>\n",
              "    </div>\n",
              "  </div>\n",
              "  "
            ]
          },
          "metadata": {},
          "execution_count": 151
        }
      ]
    },
    {
      "cell_type": "markdown",
      "source": [
        "# IMPLEMENTATION OF K-MEANS CLUSTERING"
      ],
      "metadata": {
        "id": "gmUYxDzt6MrQ"
      }
    },
    {
      "cell_type": "code",
      "source": [
        "# importing libraries\n",
        "from sklearn.cluster import KMeans\n",
        "from yellowbrick.cluster import KElbowVisualizer\n",
        "from sklearn.metrics import silhouette_score\n",
        "\n",
        "# find the optimal number of clusters\n",
        "Clusters=[i for i in range(2,30,1)]\n",
        "silhouette_avg = []\n",
        "Sum_of_Distances = []\n",
        "for num_clusters in Clusters:\n",
        " \n",
        " Kmeans = KMeans(n_clusters=num_clusters, init='k-means++', n_init=12)\n",
        " \n",
        " Kmeans.fit(x)\n",
        " Cluster_labels = Kmeans.labels_\n",
        " silhouette_avg.append(silhouette_score(x, Cluster_labels))\n",
        " Sum_of_Distances.append(Kmeans.inertia_)\n"
      ],
      "metadata": {
        "id": "AgR99PHQJudd"
      },
      "execution_count": 152,
      "outputs": []
    },
    {
      "cell_type": "code",
      "source": [
        "# PLOT ELBOW METHOD\n",
        "\n",
        "plt.figure(figsize=(12,6))\n",
        "plt.plot(Clusters,Sum_of_Distances,'bx-')\n",
        "\n",
        "plt.xlabel('Values of K') \n",
        "plt.ylabel('Sum of Distances/Inertia') \n",
        "plt.title('Elbow Method ')\n",
        "plt.show()"
      ],
      "metadata": {
        "colab": {
          "base_uri": "https://localhost:8080/",
          "height": 413
        },
        "id": "sVdTdgRNZbBB",
        "outputId": "57f9baab-5551-4e3d-f922-098627368603"
      },
      "execution_count": 153,
      "outputs": [
        {
          "output_type": "display_data",
          "data": {
            "text/plain": [
              "<Figure size 864x432 with 1 Axes>"
            ],
            "image/png": "[encoded data removed]"
          },
          "metadata": {}
        }
      ]
    },
    {
      "cell_type": "code",
      "source": [
        "# Plot silhouette score\n",
        "\n",
        "plt.figure(figsize=(12,6))\n",
        "plt.plot(Clusters,silhouette_avg,'bx-')\n",
        "plt.xlabel('Values of K') \n",
        "plt.ylabel('Silhouette score') \n",
        "plt.title('Silhouette analysis ')\n",
        "plt.show()"
      ],
      "metadata": {
        "colab": {
          "base_uri": "https://localhost:8080/",
          "height": 413
        },
        "id": "meaGy0Ndj1jU",
        "outputId": "3cb86fdb-019f-4d7f-f3bf-2697a4ef5035"
      },
      "execution_count": 154,
      "outputs": [
        {
          "output_type": "display_data",
          "data": {
            "text/plain": [
              "<Figure size 864x432 with 1 Axes>"
            ],
            "image/png": "[encoded data removed]"
          },
          "metadata": {}
        }
      ]
    },
    {
      "cell_type": "code",
      "source": [
        "# find another clustering\n",
        "\n",
        "Clusters=[i for i in range(2,41,1)]\n",
        "silhouette_avg = []\n",
        "Sum_of_Distances = []\n",
        "for num_clusters in Clusters:\n",
        " \n",
        " Kmeans = KMeans(n_clusters=num_clusters, init='k-means++', n_init=12)\n",
        " \n",
        " Kmeans.fit(x)\n",
        " Cluster_labels = Kmeans.labels_\n",
        " silhouette_avg.append(silhouette_score(x, Cluster_labels))\n",
        " Sum_of_Distances.append(Kmeans.inertia_)\n"
      ],
      "metadata": {
        "id": "VXUpeIrRwWKi"
      },
      "execution_count": 155,
      "outputs": []
    },
    {
      "cell_type": "code",
      "source": [
        "# Plot Elbow\n",
        "\n",
        "plt.figure(figsize=(12,6))\n",
        "plt.plot(Clusters,Sum_of_Distances,'bx-')\n",
        "\n",
        "plt.xlabel('Values of K') \n",
        "plt.ylabel('Sum of Distances/Inertia') \n",
        "plt.title('Elbow Method')\n",
        "plt.show()"
      ],
      "metadata": {
        "colab": {
          "base_uri": "https://localhost:8080/",
          "height": 413
        },
        "id": "TZ9SNWtOxj_Z",
        "outputId": "34a29fe2-c2c6-4368-a249-7e9ccd361999"
      },
      "execution_count": 156,
      "outputs": [
        {
          "output_type": "display_data",
          "data": {
            "text/plain": [
              "<Figure size 864x432 with 1 Axes>"
            ],
            "image/png": "[encoded data removed]"
          },
          "metadata": {}
        }
      ]
    },
    {
      "cell_type": "code",
      "source": [
        "# Plot silhouette score\n",
        "\n",
        "plt.figure(figsize=(12,6))\n",
        "plt.plot(Clusters,silhouette_avg,'bx-')\n",
        "plt.xlabel('Values of K') \n",
        "plt.ylabel('Silhouette score') \n",
        "plt.title('Silhouette analysis')\n",
        "plt.show()"
      ],
      "metadata": {
        "colab": {
          "base_uri": "https://localhost:8080/",
          "height": 413
        },
        "id": "F-NGRFS6yLE7",
        "outputId": "38473362-51db-48d1-fcb8-8fb17bc61a5d"
      },
      "execution_count": 157,
      "outputs": [
        {
          "output_type": "display_data",
          "data": {
            "text/plain": [
              "<Figure size 864x432 with 1 Axes>"
            ],
            "image/png": "[encoded data removed]"
          },
          "metadata": {}
        }
      ]
    },
    {
      "cell_type": "markdown",
      "source": [
        "**MODEL CREATING**"
      ],
      "metadata": {
        "id": "rsz1rfSey7BV"
      }
    },
    {
      "cell_type": "code",
      "source": [
        "# Creating model for clustering 26\n",
        "\n",
        "Kmeans = KMeans(n_clusters=26, init='k-means++', n_init=10)\n",
        "Kmeans.fit(x)\n",
        "PREDICTIONS = Kmeans.fit_predict(x)\n",
        "PREDICTIONS_Df = pd.DataFrame(PREDICTIONS, columns=['cluster'])\n",
        "Df.insert(len(Df.columns), column = 'cluster', value = PREDICTIONS_Df.cluster)"
      ],
      "metadata": {
        "id": "gvDM_fYhzWjT"
      },
      "execution_count": 158,
      "outputs": []
    },
    {
      "cell_type": "code",
      "source": [
        "# original data\n",
        "Df.head()"
      ],
      "metadata": {
        "colab": {
          "base_uri": "https://localhost:8080/",
          "height": 493
        },
        "id": "HvdvkREe1dTa",
        "outputId": "5421b900-e4ee-47c6-a4e3-fb0b056fc6c9"
      },
      "execution_count": 159,
      "outputs": [
        {
          "output_type": "execute_result",
          "data": {
            "text/plain": [
              "  show_id     type  title                                               cast  \\\n",
              "0      s1  TV Show     3%  [João Miguel,  Bianca Comparato,  Michel Gomes...   \n",
              "1      s2    Movie   7:19  [Demián Bichir,  Héctor Bonilla,  Oscar Serran...   \n",
              "2      s3    Movie  23:59  [Tedd Chan,  Stella Chung,  Henley Hii,  Lawre...   \n",
              "3      s4    Movie      9  [Elijah Wood,  John C. Reilly,  Jennifer Conne...   \n",
              "4      s5    Movie     21  [Jim Sturgess,  Kevin Spacey,  Kate Bosworth, ...   \n",
              "\n",
              "           country         date_added  release_year rating   duration  \\\n",
              "0         [Brazil]    August 14, 2020          2020  TV-MA  4 Seasons   \n",
              "1         [Mexico]  December 23, 2016          2016  TV-MA     93 min   \n",
              "2      [Singapore]  December 20, 2018          2011      R     78 min   \n",
              "3  [United States]  November 16, 2017          2009  PG-13     80 min   \n",
              "4  [United States]    January 1, 2020          2008  PG-13    123 min   \n",
              "\n",
              "                                           listed_in  \\\n",
              "0  [International TV Shows,  TV Dramas,  TV Sci-F...   \n",
              "1                    [Dramas,  International Movies]   \n",
              "2             [Horror Movies,  International Movies]   \n",
              "3  [Action & Adventure,  Independent Movies,  Sci...   \n",
              "4                                           [Dramas]   \n",
              "\n",
              "                                         description  \\\n",
              "0  In a future where the elite inhabit an island ...   \n",
              "1  After a devastating earthquake hits Mexico Cit...   \n",
              "2  When an army recruit is found dead, his fellow...   \n",
              "3  In a postapocalyptic world, rag-doll robots hi...   \n",
              "4  A brilliant group of students become card-coun...   \n",
              "\n",
              "                                   combined features  cluster  \n",
              "0    international tv shows     tv dramas     tv ...       23  \n",
              "1    dramas     international movies   after a de...       13  \n",
              "2    horror movies     international movies   whe...        4  \n",
              "3    action   adventure     independent movies   ...       21  \n",
              "4    dramas   a brilliant group of students becom...        6  "
            ],
            "text/html": [
              "\n",
              "  <div id=\"df-4d508e04-5996-47a6-b10f-60e3b70eaae0\">\n",
              "    <div class=\"colab-df-container\">\n",
              "      <div>\n",
              "<style scoped>\n",
              "    .dataframe tbody tr th:only-of-type {\n",
              "        vertical-align: middle;\n",
              "    }\n",
              "\n",
              "    .dataframe tbody tr th {\n",
              "        vertical-align: top;\n",
              "    }\n",
              "\n",
              "    .dataframe thead th {\n",
              "        text-align: right;\n",
              "    }\n",
              "</style>\n",
              "<table border=\"1\" class=\"dataframe\">\n",
              "  <thead>\n",
              "    <tr style=\"text-align: right;\">\n",
              "      <th></th>\n",
              "      <th>show_id</th>\n",
              "      <th>type</th>\n",
              "      <th>title</th>\n",
              "      <th>cast</th>\n",
              "      <th>country</th>\n",
              "      <th>date_added</th>\n",
              "      <th>release_year</th>\n",
              "      <th>rating</th>\n",
              "      <th>duration</th>\n",
              "      <th>listed_in</th>\n",
              "      <th>description</th>\n",
              "      <th>combined features</th>\n",
              "      <th>cluster</th>\n",
              "    </tr>\n",
              "  </thead>\n",
              "  <tbody>\n",
              "    <tr>\n",
              "      <th>0</th>\n",
              "      <td>s1</td>\n",
              "      <td>TV Show</td>\n",
              "      <td>3%</td>\n",
              "      <td>[João Miguel,  Bianca Comparato,  Michel Gomes...</td>\n",
              "      <td>[Brazil]</td>\n",
              "      <td>August 14, 2020</td>\n",
              "      <td>2020</td>\n",
              "      <td>TV-MA</td>\n",
              "      <td>4 Seasons</td>\n",
              "      <td>[International TV Shows,  TV Dramas,  TV Sci-F...</td>\n",
              "      <td>In a future where the elite inhabit an island ...</td>\n",
              "      <td>international tv shows     tv dramas     tv ...</td>\n",
              "      <td>23</td>\n",
              "    </tr>\n",
              "    <tr>\n",
              "      <th>1</th>\n",
              "      <td>s2</td>\n",
              "      <td>Movie</td>\n",
              "      <td>7:19</td>\n",
              "      <td>[Demián Bichir,  Héctor Bonilla,  Oscar Serran...</td>\n",
              "      <td>[Mexico]</td>\n",
              "      <td>December 23, 2016</td>\n",
              "      <td>2016</td>\n",
              "      <td>TV-MA</td>\n",
              "      <td>93 min</td>\n",
              "      <td>[Dramas,  International Movies]</td>\n",
              "      <td>After a devastating earthquake hits Mexico Cit...</td>\n",
              "      <td>dramas     international movies   after a de...</td>\n",
              "      <td>13</td>\n",
              "    </tr>\n",
              "    <tr>\n",
              "      <th>2</th>\n",
              "      <td>s3</td>\n",
              "      <td>Movie</td>\n",
              "      <td>23:59</td>\n",
              "      <td>[Tedd Chan,  Stella Chung,  Henley Hii,  Lawre...</td>\n",
              "      <td>[Singapore]</td>\n",
              "      <td>December 20, 2018</td>\n",
              "      <td>2011</td>\n",
              "      <td>R</td>\n",
              "      <td>78 min</td>\n",
              "      <td>[Horror Movies,  International Movies]</td>\n",
              "      <td>When an army recruit is found dead, his fellow...</td>\n",
              "      <td>horror movies     international movies   whe...</td>\n",
              "      <td>4</td>\n",
              "    </tr>\n",
              "    <tr>\n",
              "      <th>3</th>\n",
              "      <td>s4</td>\n",
              "      <td>Movie</td>\n",
              "      <td>9</td>\n",
              "      <td>[Elijah Wood,  John C. Reilly,  Jennifer Conne...</td>\n",
              "      <td>[United States]</td>\n",
              "      <td>November 16, 2017</td>\n",
              "      <td>2009</td>\n",
              "      <td>PG-13</td>\n",
              "      <td>80 min</td>\n",
              "      <td>[Action &amp; Adventure,  Independent Movies,  Sci...</td>\n",
              "      <td>In a postapocalyptic world, rag-doll robots hi...</td>\n",
              "      <td>action   adventure     independent movies   ...</td>\n",
              "      <td>21</td>\n",
              "    </tr>\n",
              "    <tr>\n",
              "      <th>4</th>\n",
              "      <td>s5</td>\n",
              "      <td>Movie</td>\n",
              "      <td>21</td>\n",
              "      <td>[Jim Sturgess,  Kevin Spacey,  Kate Bosworth, ...</td>\n",
              "      <td>[United States]</td>\n",
              "      <td>January 1, 2020</td>\n",
              "      <td>2008</td>\n",
              "      <td>PG-13</td>\n",
              "      <td>123 min</td>\n",
              "      <td>[Dramas]</td>\n",
              "      <td>A brilliant group of students become card-coun...</td>\n",
              "      <td>dramas   a brilliant group of students becom...</td>\n",
              "      <td>6</td>\n",
              "    </tr>\n",
              "  </tbody>\n",
              "</table>\n",
              "</div>\n",
              "      <button class=\"colab-df-convert\" onclick=\"convertToInteractive('df-4d508e04-5996-47a6-b10f-60e3b70eaae0')\"\n",
              "              title=\"Convert this dataframe to an interactive table.\"\n",
              "              style=\"display:none;\">\n",
              "        \n",
              "  <svg xmlns=\"http://www.w3.org/2000/svg\" height=\"24px\"viewBox=\"0 0 24 24\"\n",
              "       width=\"24px\">\n",
              "    <path d=\"M0 0h24v24H0V0z\" fill=\"none\"/>\n",
              "    <path d=\"M18.56 5.44l.94 2.06.94-2.06 2.06-.94-2.06-.94-.94-2.06-.94 2.06-2.06.94zm-11 1L8.5 8.5l.94-2.06 2.06-.94-2.06-.94L8.5 2.5l-.94 2.06-2.06.94zm10 10l.94 2.06.94-2.06 2.06-.94-2.06-.94-.94-2.06-.94 2.06-2.06.94z\"/><path d=\"M17.41 7.96l-1.37-1.37c-.4-.4-.92-.59-1.43-.59-.52 0-1.04.2-1.43.59L10.3 9.45l-7.72 7.72c-.78.78-.78 2.05 0 2.83L4 21.41c.39.39.9.59 1.41.59.51 0 1.02-.2 1.41-.59l7.78-7.78 2.81-2.81c.8-.78.8-2.07 0-2.86zM5.41 20L4 18.59l7.72-7.72 1.47 1.35L5.41 20z\"/>\n",
              "  </svg>\n",
              "      </button>\n",
              "      \n",
              "  <style>\n",
              "    .colab-df-container {\n",
              "      display:flex;\n",
              "      flex-wrap:wrap;\n",
              "      gap: 12px;\n",
              "    }\n",
              "\n",
              "    .colab-df-convert {\n",
              "      background-color: #E8F0FE;\n",
              "      border: none;\n",
              "      border-radius: 50%;\n",
              "      cursor: pointer;\n",
              "      display: none;\n",
              "      fill: #1967D2;\n",
              "      height: 32px;\n",
              "      padding: 0 0 0 0;\n",
              "      width: 32px;\n",
              "    }\n",
              "\n",
              "    .colab-df-convert:hover {\n",
              "      background-color: #E2EBFA;\n",
              "      box-shadow: 0px 1px 2px rgba(60, 64, 67, 0.3), 0px 1px 3px 1px rgba(60, 64, 67, 0.15);\n",
              "      fill: #174EA6;\n",
              "    }\n",
              "\n",
              "    [theme=dark] .colab-df-convert {\n",
              "      background-color: #3B4455;\n",
              "      fill: #D2E3FC;\n",
              "    }\n",
              "\n",
              "    [theme=dark] .colab-df-convert:hover {\n",
              "      background-color: #434B5C;\n",
              "      box-shadow: 0px 1px 3px 1px rgba(0, 0, 0, 0.15);\n",
              "      filter: drop-shadow(0px 1px 2px rgba(0, 0, 0, 0.3));\n",
              "      fill: #FFFFFF;\n",
              "    }\n",
              "  </style>\n",
              "\n",
              "      <script>\n",
              "        const buttonEl =\n",
              "          document.querySelector('#df-4d508e04-5996-47a6-b10f-60e3b70eaae0 button.colab-df-convert');\n",
              "        buttonEl.style.display =\n",
              "          google.colab.kernel.accessAllowed ? 'block' : 'none';\n",
              "\n",
              "        async function convertToInteractive(key) {\n",
              "          const element = document.querySelector('#df-4d508e04-5996-47a6-b10f-60e3b70eaae0');\n",
              "          const dataTable =\n",
              "            await google.colab.kernel.invokeFunction('convertToInteractive',\n",
              "                                                     [key], {});\n",
              "          if (!dataTable) return;\n",
              "\n",
              "          const docLinkHtml = 'Like what you see? Visit the ' +\n",
              "            '<a target=\"_blank\" href=https://colab.research.google.com/notebooks/data_table.ipynb>data table notebook</a>'\n",
              "            + ' to learn more about interactive tables.';\n",
              "          element.innerHTML = '';\n",
              "          dataTable['output_type'] = 'display_data';\n",
              "          await google.colab.output.renderOutput(dataTable, element);\n",
              "          const docLink = document.createElement('div');\n",
              "          docLink.innerHTML = docLinkHtml;\n",
              "          element.appendChild(docLink);\n",
              "        }\n",
              "      </script>\n",
              "    </div>\n",
              "  </div>\n",
              "  "
            ]
          },
          "metadata": {},
          "execution_count": 159
        }
      ]
    },
    {
      "cell_type": "markdown",
      "source": [
        "**Checking out clusters**"
      ],
      "metadata": {
        "id": "6i8unr6ZHndN"
      }
    },
    {
      "cell_type": "code",
      "source": [
        "# check clusters in dataset\n",
        "Df[Df['cluster'] == 1][['type','title','cast','country','rating','listed_in','description']]"
      ],
      "metadata": {
        "colab": {
          "base_uri": "https://localhost:8080/",
          "height": 641
        },
        "id": "jN0R0cry16gR",
        "outputId": "69eb907c-ce38-46a1-fb29-a30f124657e3"
      },
      "execution_count": 160,
      "outputs": [
        {
          "output_type": "execute_result",
          "data": {
            "text/plain": [
              "         type                                        title  \\\n",
              "197   TV Show             A Little Help with Carol Burnett   \n",
              "220     Movie                   A Russell Peters Christmas   \n",
              "284   TV Show                              Abnormal Summit   \n",
              "305     Movie          Adam Devine: Best Time of Our Lives   \n",
              "307     Movie                      ADAM SANDLER 100% FRESH   \n",
              "...       ...                                          ...   \n",
              "7680    Movie                        Wyatt Cenac: Brooklyn   \n",
              "7718    Movie               Yoo Byung Jae: Discomfort Zone   \n",
              "7719    Movie          Yoo Byung Jae: Too Much Information   \n",
              "7744    Movie                  Yours Sincerely, Kanan Gill   \n",
              "7757    Movie  Zach Galifianakis: Live at the Purple Onion   \n",
              "\n",
              "                                                   cast          country  \\\n",
              "197   [Carol Burnett,  Russell Peters,  Mark Cuban, ...  [United States]   \n",
              "220   [Russell Peters,  Pamela Anderson,  Michael Bu...         [Canada]   \n",
              "284        [Hyun-moo Jun,  Si-kyung Sung,  Se-yoon Yoo]    [South Korea]   \n",
              "305                                       [Adam Devine]  [United States]   \n",
              "307                                      [Adam Sandler]  [United States]   \n",
              "...                                                 ...              ...   \n",
              "7680                                      [Wyatt Cenac]  [United States]   \n",
              "7718                                    [Yoo Byung Jae]    [South Korea]   \n",
              "7719                                    [Yoo Byung-jae]               []   \n",
              "7744                                       [Kanan Gill]          [India]   \n",
              "7757                  [Zach Galifianakis,  Brian Unger]  [United States]   \n",
              "\n",
              "     rating                                          listed_in  \\\n",
              "197    TV-G       [Stand-Up Comedy & Talk Shows,  TV Comedies]   \n",
              "220      NR                                  [Stand-Up Comedy]   \n",
              "284   TV-PG  [International TV Shows,  Korean TV Shows,  St...   \n",
              "305   TV-MA                                  [Stand-Up Comedy]   \n",
              "307   TV-MA                                  [Stand-Up Comedy]   \n",
              "...     ...                                                ...   \n",
              "7680  TV-MA                                  [Stand-Up Comedy]   \n",
              "7718  TV-MA                                  [Stand-Up Comedy]   \n",
              "7719  TV-MA                                  [Stand-Up Comedy]   \n",
              "7744  TV-MA                                  [Stand-Up Comedy]   \n",
              "7757  TV-MA                                  [Stand-Up Comedy]   \n",
              "\n",
              "                                            description  \n",
              "197   Comedy icon Carol Burnett returns to TV with a...  \n",
              "220   Inspired by the variety shows of the 1970s, \"A...  \n",
              "284   Led by a trio of Korean celebs, a multinationa...  \n",
              "305   Frenetic comic Adam Devine talks teen awkwardn...  \n",
              "307   From \"Heroes\" to \"Ice Cream Ladies\" – Adam San...  \n",
              "...                                                 ...  \n",
              "7680  Wyatt Cenac heads to Brooklyn to share his obs...  \n",
              "7718  Daring comedian Yoo Byung-jae connects critici...  \n",
              "7719  \"Saturday Night Live Korea\" writer-turned-come...  \n",
              "7744  Revisiting life goals set in a letter written ...  \n",
              "7757  The unorthodox, piano-playing stand-up star Za...  \n",
              "\n",
              "[379 rows x 7 columns]"
            ],
            "text/html": [
              "\n",
              "  <div id=\"df-07e3cf42-ce57-4c2d-a5e5-aa921e4bda1c\">\n",
              "    <div class=\"colab-df-container\">\n",
              "      <div>\n",
              "<style scoped>\n",
              "    .dataframe tbody tr th:only-of-type {\n",
              "        vertical-align: middle;\n",
              "    }\n",
              "\n",
              "    .dataframe tbody tr th {\n",
              "        vertical-align: top;\n",
              "    }\n",
              "\n",
              "    .dataframe thead th {\n",
              "        text-align: right;\n",
              "    }\n",
              "</style>\n",
              "<table border=\"1\" class=\"dataframe\">\n",
              "  <thead>\n",
              "    <tr style=\"text-align: right;\">\n",
              "      <th></th>\n",
              "      <th>type</th>\n",
              "      <th>title</th>\n",
              "      <th>cast</th>\n",
              "      <th>country</th>\n",
              "      <th>rating</th>\n",
              "      <th>listed_in</th>\n",
              "      <th>description</th>\n",
              "    </tr>\n",
              "  </thead>\n",
              "  <tbody>\n",
              "    <tr>\n",
              "      <th>197</th>\n",
              "      <td>TV Show</td>\n",
              "      <td>A Little Help with Carol Burnett</td>\n",
              "      <td>[Carol Burnett,  Russell Peters,  Mark Cuban, ...</td>\n",
              "      <td>[United States]</td>\n",
              "      <td>TV-G</td>\n",
              "      <td>[Stand-Up Comedy &amp; Talk Shows,  TV Comedies]</td>\n",
              "      <td>Comedy icon Carol Burnett returns to TV with a...</td>\n",
              "    </tr>\n",
              "    <tr>\n",
              "      <th>220</th>\n",
              "      <td>Movie</td>\n",
              "      <td>A Russell Peters Christmas</td>\n",
              "      <td>[Russell Peters,  Pamela Anderson,  Michael Bu...</td>\n",
              "      <td>[Canada]</td>\n",
              "      <td>NR</td>\n",
              "      <td>[Stand-Up Comedy]</td>\n",
              "      <td>Inspired by the variety shows of the 1970s, \"A...</td>\n",
              "    </tr>\n",
              "    <tr>\n",
              "      <th>284</th>\n",
              "      <td>TV Show</td>\n",
              "      <td>Abnormal Summit</td>\n",
              "      <td>[Hyun-moo Jun,  Si-kyung Sung,  Se-yoon Yoo]</td>\n",
              "      <td>[South Korea]</td>\n",
              "      <td>TV-PG</td>\n",
              "      <td>[International TV Shows,  Korean TV Shows,  St...</td>\n",
              "      <td>Led by a trio of Korean celebs, a multinationa...</td>\n",
              "    </tr>\n",
              "    <tr>\n",
              "      <th>305</th>\n",
              "      <td>Movie</td>\n",
              "      <td>Adam Devine: Best Time of Our Lives</td>\n",
              "      <td>[Adam Devine]</td>\n",
              "      <td>[United States]</td>\n",
              "      <td>TV-MA</td>\n",
              "      <td>[Stand-Up Comedy]</td>\n",
              "      <td>Frenetic comic Adam Devine talks teen awkwardn...</td>\n",
              "    </tr>\n",
              "    <tr>\n",
              "      <th>307</th>\n",
              "      <td>Movie</td>\n",
              "      <td>ADAM SANDLER 100% FRESH</td>\n",
              "      <td>[Adam Sandler]</td>\n",
              "      <td>[United States]</td>\n",
              "      <td>TV-MA</td>\n",
              "      <td>[Stand-Up Comedy]</td>\n",
              "      <td>From \"Heroes\" to \"Ice Cream Ladies\" – Adam San...</td>\n",
              "    </tr>\n",
              "    <tr>\n",
              "      <th>...</th>\n",
              "      <td>...</td>\n",
              "      <td>...</td>\n",
              "      <td>...</td>\n",
              "      <td>...</td>\n",
              "      <td>...</td>\n",
              "      <td>...</td>\n",
              "      <td>...</td>\n",
              "    </tr>\n",
              "    <tr>\n",
              "      <th>7680</th>\n",
              "      <td>Movie</td>\n",
              "      <td>Wyatt Cenac: Brooklyn</td>\n",
              "      <td>[Wyatt Cenac]</td>\n",
              "      <td>[United States]</td>\n",
              "      <td>TV-MA</td>\n",
              "      <td>[Stand-Up Comedy]</td>\n",
              "      <td>Wyatt Cenac heads to Brooklyn to share his obs...</td>\n",
              "    </tr>\n",
              "    <tr>\n",
              "      <th>7718</th>\n",
              "      <td>Movie</td>\n",
              "      <td>Yoo Byung Jae: Discomfort Zone</td>\n",
              "      <td>[Yoo Byung Jae]</td>\n",
              "      <td>[South Korea]</td>\n",
              "      <td>TV-MA</td>\n",
              "      <td>[Stand-Up Comedy]</td>\n",
              "      <td>Daring comedian Yoo Byung-jae connects critici...</td>\n",
              "    </tr>\n",
              "    <tr>\n",
              "      <th>7719</th>\n",
              "      <td>Movie</td>\n",
              "      <td>Yoo Byung Jae: Too Much Information</td>\n",
              "      <td>[Yoo Byung-jae]</td>\n",
              "      <td>[]</td>\n",
              "      <td>TV-MA</td>\n",
              "      <td>[Stand-Up Comedy]</td>\n",
              "      <td>\"Saturday Night Live Korea\" writer-turned-come...</td>\n",
              "    </tr>\n",
              "    <tr>\n",
              "      <th>7744</th>\n",
              "      <td>Movie</td>\n",
              "      <td>Yours Sincerely, Kanan Gill</td>\n",
              "      <td>[Kanan Gill]</td>\n",
              "      <td>[India]</td>\n",
              "      <td>TV-MA</td>\n",
              "      <td>[Stand-Up Comedy]</td>\n",
              "      <td>Revisiting life goals set in a letter written ...</td>\n",
              "    </tr>\n",
              "    <tr>\n",
              "      <th>7757</th>\n",
              "      <td>Movie</td>\n",
              "      <td>Zach Galifianakis: Live at the Purple Onion</td>\n",
              "      <td>[Zach Galifianakis,  Brian Unger]</td>\n",
              "      <td>[United States]</td>\n",
              "      <td>TV-MA</td>\n",
              "      <td>[Stand-Up Comedy]</td>\n",
              "      <td>The unorthodox, piano-playing stand-up star Za...</td>\n",
              "    </tr>\n",
              "  </tbody>\n",
              "</table>\n",
              "<p>379 rows × 7 columns</p>\n",
              "</div>\n",
              "      <button class=\"colab-df-convert\" onclick=\"convertToInteractive('df-07e3cf42-ce57-4c2d-a5e5-aa921e4bda1c')\"\n",
              "              title=\"Convert this dataframe to an interactive table.\"\n",
              "              style=\"display:none;\">\n",
              "        \n",
              "  <svg xmlns=\"http://www.w3.org/2000/svg\" height=\"24px\"viewBox=\"0 0 24 24\"\n",
              "       width=\"24px\">\n",
              "    <path d=\"M0 0h24v24H0V0z\" fill=\"none\"/>\n",
              "    <path d=\"M18.56 5.44l.94 2.06.94-2.06 2.06-.94-2.06-.94-.94-2.06-.94 2.06-2.06.94zm-11 1L8.5 8.5l.94-2.06 2.06-.94-2.06-.94L8.5 2.5l-.94 2.06-2.06.94zm10 10l.94 2.06.94-2.06 2.06-.94-2.06-.94-.94-2.06-.94 2.06-2.06.94z\"/><path d=\"M17.41 7.96l-1.37-1.37c-.4-.4-.92-.59-1.43-.59-.52 0-1.04.2-1.43.59L10.3 9.45l-7.72 7.72c-.78.78-.78 2.05 0 2.83L4 21.41c.39.39.9.59 1.41.59.51 0 1.02-.2 1.41-.59l7.78-7.78 2.81-2.81c.8-.78.8-2.07 0-2.86zM5.41 20L4 18.59l7.72-7.72 1.47 1.35L5.41 20z\"/>\n",
              "  </svg>\n",
              "      </button>\n",
              "      \n",
              "  <style>\n",
              "    .colab-df-container {\n",
              "      display:flex;\n",
              "      flex-wrap:wrap;\n",
              "      gap: 12px;\n",
              "    }\n",
              "\n",
              "    .colab-df-convert {\n",
              "      background-color: #E8F0FE;\n",
              "      border: none;\n",
              "      border-radius: 50%;\n",
              "      cursor: pointer;\n",
              "      display: none;\n",
              "      fill: #1967D2;\n",
              "      height: 32px;\n",
              "      padding: 0 0 0 0;\n",
              "      width: 32px;\n",
              "    }\n",
              "\n",
              "    .colab-df-convert:hover {\n",
              "      background-color: #E2EBFA;\n",
              "      box-shadow: 0px 1px 2px rgba(60, 64, 67, 0.3), 0px 1px 3px 1px rgba(60, 64, 67, 0.15);\n",
              "      fill: #174EA6;\n",
              "    }\n",
              "\n",
              "    [theme=dark] .colab-df-convert {\n",
              "      background-color: #3B4455;\n",
              "      fill: #D2E3FC;\n",
              "    }\n",
              "\n",
              "    [theme=dark] .colab-df-convert:hover {\n",
              "      background-color: #434B5C;\n",
              "      box-shadow: 0px 1px 3px 1px rgba(0, 0, 0, 0.15);\n",
              "      filter: drop-shadow(0px 1px 2px rgba(0, 0, 0, 0.3));\n",
              "      fill: #FFFFFF;\n",
              "    }\n",
              "  </style>\n",
              "\n",
              "      <script>\n",
              "        const buttonEl =\n",
              "          document.querySelector('#df-07e3cf42-ce57-4c2d-a5e5-aa921e4bda1c button.colab-df-convert');\n",
              "        buttonEl.style.display =\n",
              "          google.colab.kernel.accessAllowed ? 'block' : 'none';\n",
              "\n",
              "        async function convertToInteractive(key) {\n",
              "          const element = document.querySelector('#df-07e3cf42-ce57-4c2d-a5e5-aa921e4bda1c');\n",
              "          const dataTable =\n",
              "            await google.colab.kernel.invokeFunction('convertToInteractive',\n",
              "                                                     [key], {});\n",
              "          if (!dataTable) return;\n",
              "\n",
              "          const docLinkHtml = 'Like what you see? Visit the ' +\n",
              "            '<a target=\"_blank\" href=https://colab.research.google.com/notebooks/data_table.ipynb>data table notebook</a>'\n",
              "            + ' to learn more about interactive tables.';\n",
              "          element.innerHTML = '';\n",
              "          dataTable['output_type'] = 'display_data';\n",
              "          await google.colab.output.renderOutput(dataTable, element);\n",
              "          const docLink = document.createElement('div');\n",
              "          docLink.innerHTML = docLinkHtml;\n",
              "          element.appendChild(docLink);\n",
              "        }\n",
              "      </script>\n",
              "    </div>\n",
              "  </div>\n",
              "  "
            ]
          },
          "metadata": {},
          "execution_count": 160
        }
      ]
    },
    {
      "cell_type": "markdown",
      "source": [
        "From above analysis we can see that Cluster 1 has Movies as type and genre as children and family movies.\n",
        "\n",
        "check another clustering-"
      ],
      "metadata": {
        "id": "zFg2RZjWH-jD"
      }
    },
    {
      "cell_type": "code",
      "source": [
        "# clustering checking\n",
        "Df[Df['cluster'] ==4][['type','title','cast','country','rating','listed_in','description']]"
      ],
      "metadata": {
        "colab": {
          "base_uri": "https://localhost:8080/",
          "height": 641
        },
        "id": "jcvhdAJ3E4F-",
        "outputId": "64b7c28f-c1fd-46b1-b554-f3218e5f667c"
      },
      "execution_count": 161,
      "outputs": [
        {
          "output_type": "execute_result",
          "data": {
            "text/plain": [
              "       type               title  \\\n",
              "2     Movie               23:59   \n",
              "6     Movie                 122   \n",
              "8     Movie                 706   \n",
              "41    Movie          Ég man þig   \n",
              "62    Movie          13 Cameras   \n",
              "...     ...                 ...   \n",
              "7531  Movie  Welcome to Willits   \n",
              "7673  Movie    Would You Rather   \n",
              "7687  Movie                  XX   \n",
              "7714  Movie         Yoga Hosers   \n",
              "7778  Movie          Zombieland   \n",
              "\n",
              "                                                   cast  \\\n",
              "2     [Tedd Chan,  Stella Chung,  Henley Hii,  Lawre...   \n",
              "6     [Amina Khalil,  Ahmed Dawood,  Tarek Lotfy,  A...   \n",
              "8     [Divya Dutta,  Atul Kulkarni,  Mohan Agashe,  ...   \n",
              "41    [Jóhannes Haukur Jóhannesson,  Ágústa Eva Erle...   \n",
              "62    [PJ McCabe,  Brianne Moncrief,  Sarah Baldwin,...   \n",
              "...                                                 ...   \n",
              "7531  [Bill Sage,  Sabina Gadecki,  Anastasia Barano...   \n",
              "7673  [Brittany Snow,  Jeffrey Combs,  Jonny Coyne, ...   \n",
              "7687  [Natalie Brown,  Jonathan Watton,  Melanie Lyn...   \n",
              "7714  [Harley Quinn Smith,  Lily-Rose Depp,  Johnny ...   \n",
              "7778  [Jesse Eisenberg,  Woody Harrelson,  Emma Ston...   \n",
              "\n",
              "                       country rating  \\\n",
              "2                  [Singapore]      R   \n",
              "6                      [Egypt]  TV-MA   \n",
              "8                      [India]  TV-14   \n",
              "41                   [Iceland]  TV-MA   \n",
              "62             [United States]     NR   \n",
              "...                        ...    ...   \n",
              "7531           [United States]  TV-MA   \n",
              "7673           [United States]  TV-MA   \n",
              "7687  [Canada,  United States]      R   \n",
              "7714           [United States]  PG-13   \n",
              "7778           [United States]      R   \n",
              "\n",
              "                                             listed_in  \\\n",
              "2               [Horror Movies,  International Movies]   \n",
              "6               [Horror Movies,  International Movies]   \n",
              "8               [Horror Movies,  International Movies]   \n",
              "41              [Horror Movies,  International Movies]   \n",
              "62    [Horror Movies,  Independent Movies,  Thrillers]   \n",
              "...                                                ...   \n",
              "7531   [Comedies,  Horror Movies,  Independent Movies]   \n",
              "7673  [Horror Movies,  Independent Movies,  Thrillers]   \n",
              "7687                                   [Horror Movies]   \n",
              "7714   [Comedies,  Horror Movies,  Independent Movies]   \n",
              "7778                        [Comedies,  Horror Movies]   \n",
              "\n",
              "                                            description  \n",
              "2     When an army recruit is found dead, his fellow...  \n",
              "6     After an awful accident, a couple admitted to ...  \n",
              "8     When a doctor goes missing, his psychiatrist w...  \n",
              "41    Young urbanites renovating a rundown house, an...  \n",
              "62    Young parents-to-be Claire and Ryan move into ...  \n",
              "...                                                 ...  \n",
              "7531  A marijuana farmer's extraterrestrial paranoia...  \n",
              "7673  In need of cash to help her sick brother, a yo...  \n",
              "7687  This four-part anthology of short horror films...  \n",
              "7714  With an all-important high school party at sta...  \n",
              "7778  Looking to survive in a world taken over by zo...  \n",
              "\n",
              "[198 rows x 7 columns]"
            ],
            "text/html": [
              "\n",
              "  <div id=\"df-828545a5-8ed1-46e7-aa3c-695a87824900\">\n",
              "    <div class=\"colab-df-container\">\n",
              "      <div>\n",
              "<style scoped>\n",
              "    .dataframe tbody tr th:only-of-type {\n",
              "        vertical-align: middle;\n",
              "    }\n",
              "\n",
              "    .dataframe tbody tr th {\n",
              "        vertical-align: top;\n",
              "    }\n",
              "\n",
              "    .dataframe thead th {\n",
              "        text-align: right;\n",
              "    }\n",
              "</style>\n",
              "<table border=\"1\" class=\"dataframe\">\n",
              "  <thead>\n",
              "    <tr style=\"text-align: right;\">\n",
              "      <th></th>\n",
              "      <th>type</th>\n",
              "      <th>title</th>\n",
              "      <th>cast</th>\n",
              "      <th>country</th>\n",
              "      <th>rating</th>\n",
              "      <th>listed_in</th>\n",
              "      <th>description</th>\n",
              "    </tr>\n",
              "  </thead>\n",
              "  <tbody>\n",
              "    <tr>\n",
              "      <th>2</th>\n",
              "      <td>Movie</td>\n",
              "      <td>23:59</td>\n",
              "      <td>[Tedd Chan,  Stella Chung,  Henley Hii,  Lawre...</td>\n",
              "      <td>[Singapore]</td>\n",
              "      <td>R</td>\n",
              "      <td>[Horror Movies,  International Movies]</td>\n",
              "      <td>When an army recruit is found dead, his fellow...</td>\n",
              "    </tr>\n",
              "    <tr>\n",
              "      <th>6</th>\n",
              "      <td>Movie</td>\n",
              "      <td>122</td>\n",
              "      <td>[Amina Khalil,  Ahmed Dawood,  Tarek Lotfy,  A...</td>\n",
              "      <td>[Egypt]</td>\n",
              "      <td>TV-MA</td>\n",
              "      <td>[Horror Movies,  International Movies]</td>\n",
              "      <td>After an awful accident, a couple admitted to ...</td>\n",
              "    </tr>\n",
              "    <tr>\n",
              "      <th>8</th>\n",
              "      <td>Movie</td>\n",
              "      <td>706</td>\n",
              "      <td>[Divya Dutta,  Atul Kulkarni,  Mohan Agashe,  ...</td>\n",
              "      <td>[India]</td>\n",
              "      <td>TV-14</td>\n",
              "      <td>[Horror Movies,  International Movies]</td>\n",
              "      <td>When a doctor goes missing, his psychiatrist w...</td>\n",
              "    </tr>\n",
              "    <tr>\n",
              "      <th>41</th>\n",
              "      <td>Movie</td>\n",
              "      <td>Ég man þig</td>\n",
              "      <td>[Jóhannes Haukur Jóhannesson,  Ágústa Eva Erle...</td>\n",
              "      <td>[Iceland]</td>\n",
              "      <td>TV-MA</td>\n",
              "      <td>[Horror Movies,  International Movies]</td>\n",
              "      <td>Young urbanites renovating a rundown house, an...</td>\n",
              "    </tr>\n",
              "    <tr>\n",
              "      <th>62</th>\n",
              "      <td>Movie</td>\n",
              "      <td>13 Cameras</td>\n",
              "      <td>[PJ McCabe,  Brianne Moncrief,  Sarah Baldwin,...</td>\n",
              "      <td>[United States]</td>\n",
              "      <td>NR</td>\n",
              "      <td>[Horror Movies,  Independent Movies,  Thrillers]</td>\n",
              "      <td>Young parents-to-be Claire and Ryan move into ...</td>\n",
              "    </tr>\n",
              "    <tr>\n",
              "      <th>...</th>\n",
              "      <td>...</td>\n",
              "      <td>...</td>\n",
              "      <td>...</td>\n",
              "      <td>...</td>\n",
              "      <td>...</td>\n",
              "      <td>...</td>\n",
              "      <td>...</td>\n",
              "    </tr>\n",
              "    <tr>\n",
              "      <th>7531</th>\n",
              "      <td>Movie</td>\n",
              "      <td>Welcome to Willits</td>\n",
              "      <td>[Bill Sage,  Sabina Gadecki,  Anastasia Barano...</td>\n",
              "      <td>[United States]</td>\n",
              "      <td>TV-MA</td>\n",
              "      <td>[Comedies,  Horror Movies,  Independent Movies]</td>\n",
              "      <td>A marijuana farmer's extraterrestrial paranoia...</td>\n",
              "    </tr>\n",
              "    <tr>\n",
              "      <th>7673</th>\n",
              "      <td>Movie</td>\n",
              "      <td>Would You Rather</td>\n",
              "      <td>[Brittany Snow,  Jeffrey Combs,  Jonny Coyne, ...</td>\n",
              "      <td>[United States]</td>\n",
              "      <td>TV-MA</td>\n",
              "      <td>[Horror Movies,  Independent Movies,  Thrillers]</td>\n",
              "      <td>In need of cash to help her sick brother, a yo...</td>\n",
              "    </tr>\n",
              "    <tr>\n",
              "      <th>7687</th>\n",
              "      <td>Movie</td>\n",
              "      <td>XX</td>\n",
              "      <td>[Natalie Brown,  Jonathan Watton,  Melanie Lyn...</td>\n",
              "      <td>[Canada,  United States]</td>\n",
              "      <td>R</td>\n",
              "      <td>[Horror Movies]</td>\n",
              "      <td>This four-part anthology of short horror films...</td>\n",
              "    </tr>\n",
              "    <tr>\n",
              "      <th>7714</th>\n",
              "      <td>Movie</td>\n",
              "      <td>Yoga Hosers</td>\n",
              "      <td>[Harley Quinn Smith,  Lily-Rose Depp,  Johnny ...</td>\n",
              "      <td>[United States]</td>\n",
              "      <td>PG-13</td>\n",
              "      <td>[Comedies,  Horror Movies,  Independent Movies]</td>\n",
              "      <td>With an all-important high school party at sta...</td>\n",
              "    </tr>\n",
              "    <tr>\n",
              "      <th>7778</th>\n",
              "      <td>Movie</td>\n",
              "      <td>Zombieland</td>\n",
              "      <td>[Jesse Eisenberg,  Woody Harrelson,  Emma Ston...</td>\n",
              "      <td>[United States]</td>\n",
              "      <td>R</td>\n",
              "      <td>[Comedies,  Horror Movies]</td>\n",
              "      <td>Looking to survive in a world taken over by zo...</td>\n",
              "    </tr>\n",
              "  </tbody>\n",
              "</table>\n",
              "<p>198 rows × 7 columns</p>\n",
              "</div>\n",
              "      <button class=\"colab-df-convert\" onclick=\"convertToInteractive('df-828545a5-8ed1-46e7-aa3c-695a87824900')\"\n",
              "              title=\"Convert this dataframe to an interactive table.\"\n",
              "              style=\"display:none;\">\n",
              "        \n",
              "  <svg xmlns=\"http://www.w3.org/2000/svg\" height=\"24px\"viewBox=\"0 0 24 24\"\n",
              "       width=\"24px\">\n",
              "    <path d=\"M0 0h24v24H0V0z\" fill=\"none\"/>\n",
              "    <path d=\"M18.56 5.44l.94 2.06.94-2.06 2.06-.94-2.06-.94-.94-2.06-.94 2.06-2.06.94zm-11 1L8.5 8.5l.94-2.06 2.06-.94-2.06-.94L8.5 2.5l-.94 2.06-2.06.94zm10 10l.94 2.06.94-2.06 2.06-.94-2.06-.94-.94-2.06-.94 2.06-2.06.94z\"/><path d=\"M17.41 7.96l-1.37-1.37c-.4-.4-.92-.59-1.43-.59-.52 0-1.04.2-1.43.59L10.3 9.45l-7.72 7.72c-.78.78-.78 2.05 0 2.83L4 21.41c.39.39.9.59 1.41.59.51 0 1.02-.2 1.41-.59l7.78-7.78 2.81-2.81c.8-.78.8-2.07 0-2.86zM5.41 20L4 18.59l7.72-7.72 1.47 1.35L5.41 20z\"/>\n",
              "  </svg>\n",
              "      </button>\n",
              "      \n",
              "  <style>\n",
              "    .colab-df-container {\n",
              "      display:flex;\n",
              "      flex-wrap:wrap;\n",
              "      gap: 12px;\n",
              "    }\n",
              "\n",
              "    .colab-df-convert {\n",
              "      background-color: #E8F0FE;\n",
              "      border: none;\n",
              "      border-radius: 50%;\n",
              "      cursor: pointer;\n",
              "      display: none;\n",
              "      fill: #1967D2;\n",
              "      height: 32px;\n",
              "      padding: 0 0 0 0;\n",
              "      width: 32px;\n",
              "    }\n",
              "\n",
              "    .colab-df-convert:hover {\n",
              "      background-color: #E2EBFA;\n",
              "      box-shadow: 0px 1px 2px rgba(60, 64, 67, 0.3), 0px 1px 3px 1px rgba(60, 64, 67, 0.15);\n",
              "      fill: #174EA6;\n",
              "    }\n",
              "\n",
              "    [theme=dark] .colab-df-convert {\n",
              "      background-color: #3B4455;\n",
              "      fill: #D2E3FC;\n",
              "    }\n",
              "\n",
              "    [theme=dark] .colab-df-convert:hover {\n",
              "      background-color: #434B5C;\n",
              "      box-shadow: 0px 1px 3px 1px rgba(0, 0, 0, 0.15);\n",
              "      filter: drop-shadow(0px 1px 2px rgba(0, 0, 0, 0.3));\n",
              "      fill: #FFFFFF;\n",
              "    }\n",
              "  </style>\n",
              "\n",
              "      <script>\n",
              "        const buttonEl =\n",
              "          document.querySelector('#df-828545a5-8ed1-46e7-aa3c-695a87824900 button.colab-df-convert');\n",
              "        buttonEl.style.display =\n",
              "          google.colab.kernel.accessAllowed ? 'block' : 'none';\n",
              "\n",
              "        async function convertToInteractive(key) {\n",
              "          const element = document.querySelector('#df-828545a5-8ed1-46e7-aa3c-695a87824900');\n",
              "          const dataTable =\n",
              "            await google.colab.kernel.invokeFunction('convertToInteractive',\n",
              "                                                     [key], {});\n",
              "          if (!dataTable) return;\n",
              "\n",
              "          const docLinkHtml = 'Like what you see? Visit the ' +\n",
              "            '<a target=\"_blank\" href=https://colab.research.google.com/notebooks/data_table.ipynb>data table notebook</a>'\n",
              "            + ' to learn more about interactive tables.';\n",
              "          element.innerHTML = '';\n",
              "          dataTable['output_type'] = 'display_data';\n",
              "          await google.colab.output.renderOutput(dataTable, element);\n",
              "          const docLink = document.createElement('div');\n",
              "          docLink.innerHTML = docLinkHtml;\n",
              "          element.appendChild(docLink);\n",
              "        }\n",
              "      </script>\n",
              "    </div>\n",
              "  </div>\n",
              "  "
            ]
          },
          "metadata": {},
          "execution_count": 161
        }
      ]
    },
    {
      "cell_type": "markdown",
      "source": [
        "from above analysis we can say that cluster 4 has content type mixture. we can see both type content movies and genre as same agr group movies."
      ],
      "metadata": {
        "id": "EXMeHfxHJOU0"
      }
    },
    {
      "cell_type": "code",
      "source": [
        "Df[Df['cluster'] == 15][['type','title','cast','country','rating','listed_in','description']]"
      ],
      "metadata": {
        "colab": {
          "base_uri": "https://localhost:8080/",
          "height": 641
        },
        "id": "AlG04a3yFHAA",
        "outputId": "8e954187-a555-4a3b-b4b2-b3c2feb287b5"
      },
      "execution_count": 162,
      "outputs": [
        {
          "output_type": "execute_result",
          "data": {
            "text/plain": [
              "       type         title                                               cast  \\\n",
              "9     Movie          1920  [Rajneesh Duggal,  Adah Sharma,  Indraneil Sen...   \n",
              "15    Movie        Oct-01  [Sadiq Daba,  David Bailie,  Kayode Olaiya,  K...   \n",
              "27    Movie        #Alive                        [Yoo Ah-in,  Park Shin-hye]   \n",
              "65    Movie       13 Sins  [Mark Webber,  Rutina Wesley,  Devon Graye,  T...   \n",
              "69    Movie    14 Cameras  [Neville Archambault,  Amber Midthunder,  Bryt...   \n",
              "...     ...           ...                                                ...   \n",
              "7599  Movie  White Island  [Lyndon Ogbourne,  Billy Zane,  Billy Boyd,  J...   \n",
              "7615  Movie       Why Me?  [Emilian Oprea,  Mihai Constantin,  Andreea Va...   \n",
              "7742  Movie      Your Son  [José Coronado,  Ana Wagener,  Asia Ortega,  P...   \n",
              "7765  Movie     Zero Hour  [Richard Mofe-Damijo,  Alex Ekubo,  Ali Nuhu, ...   \n",
              "7770  Movie       Zinzana  [Ali Suliman,  Saleh Bakri,  Yasa,  Ali Al-Jab...   \n",
              "\n",
              "                              country rating  \\\n",
              "9                             [India]  TV-MA   \n",
              "15                          [Nigeria]  TV-14   \n",
              "27                      [South Korea]  TV-MA   \n",
              "65                    [United States]      R   \n",
              "69                    [United States]  TV-MA   \n",
              "...                               ...    ...   \n",
              "7599                 [United Kingdom]  TV-MA   \n",
              "7615   [Romania,  Bulgaria,  Hungary]  TV-MA   \n",
              "7742                 [Spain,  France]  TV-MA   \n",
              "7765                               []  TV-MA   \n",
              "7770  [United Arab Emirates,  Jordan]  TV-MA   \n",
              "\n",
              "                                              listed_in  \\\n",
              "9     [Horror Movies,  International Movies,  Thrill...   \n",
              "15          [Dramas,  International Movies,  Thrillers]   \n",
              "27    [Horror Movies,  International Movies,  Thrill...   \n",
              "65                          [Horror Movies,  Thrillers]   \n",
              "69                          [Horror Movies,  Thrillers]   \n",
              "...                                                 ...   \n",
              "7599        [Comedies,  Independent Movies,  Thrillers]   \n",
              "7615        [Dramas,  International Movies,  Thrillers]   \n",
              "7742        [Dramas,  International Movies,  Thrillers]   \n",
              "7765                 [International Movies,  Thrillers]   \n",
              "7770        [Dramas,  International Movies,  Thrillers]   \n",
              "\n",
              "                                            description  \n",
              "9     An architect and his wife move into a castle t...  \n",
              "15    Against the backdrop of Nigeria's looming inde...  \n",
              "27    As a grisly virus rampages a city, a lone man ...  \n",
              "65    A man agrees to appear on a game show with a $...  \n",
              "69    Upping the “13 Cameras” ante, this sequel find...  \n",
              "...                                                 ...  \n",
              "7599  Returning to Ibiza after several years walking...  \n",
              "7615  A young prosecutor is assigned a career-making...  \n",
              "7742  After his son is brutally beaten outside a nig...  \n",
              "7765  After his father passes, the heir to a retail ...  \n",
              "7770  Recovering alcoholic Talal wakes up inside a s...  \n",
              "\n",
              "[280 rows x 7 columns]"
            ],
            "text/html": [
              "\n",
              "  <div id=\"df-ae18e800-5fac-4965-96ca-e5b1fed9eeb4\">\n",
              "    <div class=\"colab-df-container\">\n",
              "      <div>\n",
              "<style scoped>\n",
              "    .dataframe tbody tr th:only-of-type {\n",
              "        vertical-align: middle;\n",
              "    }\n",
              "\n",
              "    .dataframe tbody tr th {\n",
              "        vertical-align: top;\n",
              "    }\n",
              "\n",
              "    .dataframe thead th {\n",
              "        text-align: right;\n",
              "    }\n",
              "</style>\n",
              "<table border=\"1\" class=\"dataframe\">\n",
              "  <thead>\n",
              "    <tr style=\"text-align: right;\">\n",
              "      <th></th>\n",
              "      <th>type</th>\n",
              "      <th>title</th>\n",
              "      <th>cast</th>\n",
              "      <th>country</th>\n",
              "      <th>rating</th>\n",
              "      <th>listed_in</th>\n",
              "      <th>description</th>\n",
              "    </tr>\n",
              "  </thead>\n",
              "  <tbody>\n",
              "    <tr>\n",
              "      <th>9</th>\n",
              "      <td>Movie</td>\n",
              "      <td>1920</td>\n",
              "      <td>[Rajneesh Duggal,  Adah Sharma,  Indraneil Sen...</td>\n",
              "      <td>[India]</td>\n",
              "      <td>TV-MA</td>\n",
              "      <td>[Horror Movies,  International Movies,  Thrill...</td>\n",
              "      <td>An architect and his wife move into a castle t...</td>\n",
              "    </tr>\n",
              "    <tr>\n",
              "      <th>15</th>\n",
              "      <td>Movie</td>\n",
              "      <td>Oct-01</td>\n",
              "      <td>[Sadiq Daba,  David Bailie,  Kayode Olaiya,  K...</td>\n",
              "      <td>[Nigeria]</td>\n",
              "      <td>TV-14</td>\n",
              "      <td>[Dramas,  International Movies,  Thrillers]</td>\n",
              "      <td>Against the backdrop of Nigeria's looming inde...</td>\n",
              "    </tr>\n",
              "    <tr>\n",
              "      <th>27</th>\n",
              "      <td>Movie</td>\n",
              "      <td>#Alive</td>\n",
              "      <td>[Yoo Ah-in,  Park Shin-hye]</td>\n",
              "      <td>[South Korea]</td>\n",
              "      <td>TV-MA</td>\n",
              "      <td>[Horror Movies,  International Movies,  Thrill...</td>\n",
              "      <td>As a grisly virus rampages a city, a lone man ...</td>\n",
              "    </tr>\n",
              "    <tr>\n",
              "      <th>65</th>\n",
              "      <td>Movie</td>\n",
              "      <td>13 Sins</td>\n",
              "      <td>[Mark Webber,  Rutina Wesley,  Devon Graye,  T...</td>\n",
              "      <td>[United States]</td>\n",
              "      <td>R</td>\n",
              "      <td>[Horror Movies,  Thrillers]</td>\n",
              "      <td>A man agrees to appear on a game show with a $...</td>\n",
              "    </tr>\n",
              "    <tr>\n",
              "      <th>69</th>\n",
              "      <td>Movie</td>\n",
              "      <td>14 Cameras</td>\n",
              "      <td>[Neville Archambault,  Amber Midthunder,  Bryt...</td>\n",
              "      <td>[United States]</td>\n",
              "      <td>TV-MA</td>\n",
              "      <td>[Horror Movies,  Thrillers]</td>\n",
              "      <td>Upping the “13 Cameras” ante, this sequel find...</td>\n",
              "    </tr>\n",
              "    <tr>\n",
              "      <th>...</th>\n",
              "      <td>...</td>\n",
              "      <td>...</td>\n",
              "      <td>...</td>\n",
              "      <td>...</td>\n",
              "      <td>...</td>\n",
              "      <td>...</td>\n",
              "      <td>...</td>\n",
              "    </tr>\n",
              "    <tr>\n",
              "      <th>7599</th>\n",
              "      <td>Movie</td>\n",
              "      <td>White Island</td>\n",
              "      <td>[Lyndon Ogbourne,  Billy Zane,  Billy Boyd,  J...</td>\n",
              "      <td>[United Kingdom]</td>\n",
              "      <td>TV-MA</td>\n",
              "      <td>[Comedies,  Independent Movies,  Thrillers]</td>\n",
              "      <td>Returning to Ibiza after several years walking...</td>\n",
              "    </tr>\n",
              "    <tr>\n",
              "      <th>7615</th>\n",
              "      <td>Movie</td>\n",
              "      <td>Why Me?</td>\n",
              "      <td>[Emilian Oprea,  Mihai Constantin,  Andreea Va...</td>\n",
              "      <td>[Romania,  Bulgaria,  Hungary]</td>\n",
              "      <td>TV-MA</td>\n",
              "      <td>[Dramas,  International Movies,  Thrillers]</td>\n",
              "      <td>A young prosecutor is assigned a career-making...</td>\n",
              "    </tr>\n",
              "    <tr>\n",
              "      <th>7742</th>\n",
              "      <td>Movie</td>\n",
              "      <td>Your Son</td>\n",
              "      <td>[José Coronado,  Ana Wagener,  Asia Ortega,  P...</td>\n",
              "      <td>[Spain,  France]</td>\n",
              "      <td>TV-MA</td>\n",
              "      <td>[Dramas,  International Movies,  Thrillers]</td>\n",
              "      <td>After his son is brutally beaten outside a nig...</td>\n",
              "    </tr>\n",
              "    <tr>\n",
              "      <th>7765</th>\n",
              "      <td>Movie</td>\n",
              "      <td>Zero Hour</td>\n",
              "      <td>[Richard Mofe-Damijo,  Alex Ekubo,  Ali Nuhu, ...</td>\n",
              "      <td>[]</td>\n",
              "      <td>TV-MA</td>\n",
              "      <td>[International Movies,  Thrillers]</td>\n",
              "      <td>After his father passes, the heir to a retail ...</td>\n",
              "    </tr>\n",
              "    <tr>\n",
              "      <th>7770</th>\n",
              "      <td>Movie</td>\n",
              "      <td>Zinzana</td>\n",
              "      <td>[Ali Suliman,  Saleh Bakri,  Yasa,  Ali Al-Jab...</td>\n",
              "      <td>[United Arab Emirates,  Jordan]</td>\n",
              "      <td>TV-MA</td>\n",
              "      <td>[Dramas,  International Movies,  Thrillers]</td>\n",
              "      <td>Recovering alcoholic Talal wakes up inside a s...</td>\n",
              "    </tr>\n",
              "  </tbody>\n",
              "</table>\n",
              "<p>280 rows × 7 columns</p>\n",
              "</div>\n",
              "      <button class=\"colab-df-convert\" onclick=\"convertToInteractive('df-ae18e800-5fac-4965-96ca-e5b1fed9eeb4')\"\n",
              "              title=\"Convert this dataframe to an interactive table.\"\n",
              "              style=\"display:none;\">\n",
              "        \n",
              "  <svg xmlns=\"http://www.w3.org/2000/svg\" height=\"24px\"viewBox=\"0 0 24 24\"\n",
              "       width=\"24px\">\n",
              "    <path d=\"M0 0h24v24H0V0z\" fill=\"none\"/>\n",
              "    <path d=\"M18.56 5.44l.94 2.06.94-2.06 2.06-.94-2.06-.94-.94-2.06-.94 2.06-2.06.94zm-11 1L8.5 8.5l.94-2.06 2.06-.94-2.06-.94L8.5 2.5l-.94 2.06-2.06.94zm10 10l.94 2.06.94-2.06 2.06-.94-2.06-.94-.94-2.06-.94 2.06-2.06.94z\"/><path d=\"M17.41 7.96l-1.37-1.37c-.4-.4-.92-.59-1.43-.59-.52 0-1.04.2-1.43.59L10.3 9.45l-7.72 7.72c-.78.78-.78 2.05 0 2.83L4 21.41c.39.39.9.59 1.41.59.51 0 1.02-.2 1.41-.59l7.78-7.78 2.81-2.81c.8-.78.8-2.07 0-2.86zM5.41 20L4 18.59l7.72-7.72 1.47 1.35L5.41 20z\"/>\n",
              "  </svg>\n",
              "      </button>\n",
              "      \n",
              "  <style>\n",
              "    .colab-df-container {\n",
              "      display:flex;\n",
              "      flex-wrap:wrap;\n",
              "      gap: 12px;\n",
              "    }\n",
              "\n",
              "    .colab-df-convert {\n",
              "      background-color: #E8F0FE;\n",
              "      border: none;\n",
              "      border-radius: 50%;\n",
              "      cursor: pointer;\n",
              "      display: none;\n",
              "      fill: #1967D2;\n",
              "      height: 32px;\n",
              "      padding: 0 0 0 0;\n",
              "      width: 32px;\n",
              "    }\n",
              "\n",
              "    .colab-df-convert:hover {\n",
              "      background-color: #E2EBFA;\n",
              "      box-shadow: 0px 1px 2px rgba(60, 64, 67, 0.3), 0px 1px 3px 1px rgba(60, 64, 67, 0.15);\n",
              "      fill: #174EA6;\n",
              "    }\n",
              "\n",
              "    [theme=dark] .colab-df-convert {\n",
              "      background-color: #3B4455;\n",
              "      fill: #D2E3FC;\n",
              "    }\n",
              "\n",
              "    [theme=dark] .colab-df-convert:hover {\n",
              "      background-color: #434B5C;\n",
              "      box-shadow: 0px 1px 3px 1px rgba(0, 0, 0, 0.15);\n",
              "      filter: drop-shadow(0px 1px 2px rgba(0, 0, 0, 0.3));\n",
              "      fill: #FFFFFF;\n",
              "    }\n",
              "  </style>\n",
              "\n",
              "      <script>\n",
              "        const buttonEl =\n",
              "          document.querySelector('#df-ae18e800-5fac-4965-96ca-e5b1fed9eeb4 button.colab-df-convert');\n",
              "        buttonEl.style.display =\n",
              "          google.colab.kernel.accessAllowed ? 'block' : 'none';\n",
              "\n",
              "        async function convertToInteractive(key) {\n",
              "          const element = document.querySelector('#df-ae18e800-5fac-4965-96ca-e5b1fed9eeb4');\n",
              "          const dataTable =\n",
              "            await google.colab.kernel.invokeFunction('convertToInteractive',\n",
              "                                                     [key], {});\n",
              "          if (!dataTable) return;\n",
              "\n",
              "          const docLinkHtml = 'Like what you see? Visit the ' +\n",
              "            '<a target=\"_blank\" href=https://colab.research.google.com/notebooks/data_table.ipynb>data table notebook</a>'\n",
              "            + ' to learn more about interactive tables.';\n",
              "          element.innerHTML = '';\n",
              "          dataTable['output_type'] = 'display_data';\n",
              "          await google.colab.output.renderOutput(dataTable, element);\n",
              "          const docLink = document.createElement('div');\n",
              "          docLink.innerHTML = docLinkHtml;\n",
              "          element.appendChild(docLink);\n",
              "        }\n",
              "      </script>\n",
              "    </div>\n",
              "  </div>\n",
              "  "
            ]
          },
          "metadata": {},
          "execution_count": 162
        }
      ]
    },
    {
      "cell_type": "markdown",
      "source": [
        "from above analysis we can see Cluster 15 has content type only movies and Genre is comedy.\n",
        "\n",
        "It looks like our model was able to bifurcate our content into based on it's different features."
      ],
      "metadata": {
        "id": "dE-8L4sPKTY6"
      }
    },
    {
      "cell_type": "markdown",
      "source": [
        "# Conclusion\n",
        "\n",
        "Here in all peocess We done Data Wrangling , feature engineering, and EDA since loading the dataset, and then we have completed some tasks that were assigned to us.\n",
        "\n",
        "We found that Movies uploaded on Netflix are more than twice the TV Shows uploaded, There are about 70% movies and 30% TV shows on Netflix.\n",
        "\n",
        "We can see that in top actors Anupam Kher has acted in the highest number of films on Netflix and Drama is the most popular genre followed by comedy.\n",
        "\n",
        "In top countries we found that The United States has the highest number of content on Netflix by a huge margin followed by India.\n",
        "\n",
        "Majority of movies have running time of between 50 to 150 min. From this analysis we can see that more number of movie release in 2017.\n",
        "\n",
        "We have also defined different clusters based on their content and implemented the KMEANS clustering algorithm. And then we determined some clusters we have plot Silhouette and Elbow  plot in which we may interact with similar content in connection to that cluster.\n",
        "\n",
        "To find the number of clusters we used elbow method and Silhouette's score. then we found that the best optimal number of clusters was 40. from silhouette method we found silhousttes score 0.0325.\n",
        "\n",
        "\n",
        "\n"
      ],
      "metadata": {
        "id": "2j891EbcKwIk"
      }
    },
    {
      "cell_type": "code",
      "source": [
        ""
      ],
      "metadata": {
        "id": "157UK5daOs3_"
      },
      "execution_count": 162,
      "outputs": []
    }
  ]
}